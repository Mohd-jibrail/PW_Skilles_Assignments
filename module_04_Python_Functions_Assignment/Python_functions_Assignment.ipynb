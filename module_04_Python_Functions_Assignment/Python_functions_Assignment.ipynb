{
 "cells": [
  {
   "cell_type": "markdown",
   "metadata": {},
   "source": [
    "Q1: Write a Python function that takes a list of numbers as input and returns the sum of all even numbers in the list"
   ]
  },
  {
   "cell_type": "code",
   "execution_count": 1,
   "metadata": {},
   "outputs": [
    {
     "data": {
      "text/plain": [
       "30"
      ]
     },
     "execution_count": 1,
     "metadata": {},
     "output_type": "execute_result"
    }
   ],
   "source": [
    "def sum_even_numbers(numbers):\n",
    "  sum = 0\n",
    "  for number in numbers:\n",
    "    if number % 2 == 0:\n",
    "      sum += number\n",
    "  return sum\n",
    "num = [1,2,3,4,5,6,7,8,9,10]\n",
    "result = sum_even_numbers(num)\n",
    "result"
   ]
  },
  {
   "cell_type": "markdown",
   "metadata": {},
   "source": [
    "Q2: Create a Python function that accepts a string and returns the reverse of that string."
   ]
  },
  {
   "cell_type": "code",
   "execution_count": 3,
   "metadata": {},
   "outputs": [
    {
     "data": {
      "text/plain": [
       "'STNEDUTS OLLEH'"
      ]
     },
     "execution_count": 3,
     "metadata": {},
     "output_type": "execute_result"
    }
   ],
   "source": [
    "def reverse_string(s):\n",
    "  return s[::-1]\n",
    "\n",
    "s =\"HELLO STUDENTS\"\n",
    "result = reverse_string(s)\n",
    "result"
   ]
  },
  {
   "cell_type": "markdown",
   "metadata": {},
   "source": [
    "Q3:  Implement a Python function that takes a list of integers and returns a new list containing the squares of \n",
    "each number"
   ]
  },
  {
   "cell_type": "code",
   "execution_count": 4,
   "metadata": {},
   "outputs": [
    {
     "data": {
      "text/plain": [
       "[1, 4, 9, 16, 25, 36, 49, 64, 81, 100]"
      ]
     },
     "execution_count": 4,
     "metadata": {},
     "output_type": "execute_result"
    }
   ],
   "source": [
    "def square_numbers(numbers):\n",
    "  return [number**2 for number in numbers]\n",
    "\n",
    "num = [1,2,3,4,5,6,7,8,9,10]\n",
    "result = square_numbers(num)\n",
    "result"
   ]
  },
  {
   "cell_type": "markdown",
   "metadata": {},
   "source": [
    "Q4: Write a Python function that checks if a given number is prime or not from 1 to 200."
   ]
  },
  {
   "cell_type": "code",
   "execution_count": 8,
   "metadata": {},
   "outputs": [
    {
     "name": "stdout",
     "output_type": "stream",
     "text": [
      "2\n",
      "3\n",
      "5\n",
      "7\n",
      "11\n",
      "13\n",
      "17\n",
      "19\n",
      "23\n",
      "29\n",
      "31\n",
      "37\n",
      "41\n",
      "43\n",
      "47\n",
      "53\n",
      "59\n",
      "61\n",
      "67\n",
      "71\n",
      "73\n",
      "79\n",
      "83\n",
      "89\n",
      "97\n"
     ]
    }
   ],
   "source": [
    "def is_prime(n):\n",
    "  if n <= 1:\n",
    "    return False\n",
    "  for i in range(2, int(n ** 0.5) + 1):\n",
    "    if n % i == 0:\n",
    "      return False\n",
    "  return True\n",
    "\n",
    "for i in range(1,101):\n",
    "    if is_prime(i):\n",
    "        print(i)\n"
   ]
  },
  {
   "cell_type": "markdown",
   "metadata": {},
   "source": [
    "Q5: Create an iterator class in Python that generates the Fibonacci sequence up to a specified number of \n",
    "terms."
   ]
  },
  {
   "cell_type": "code",
   "execution_count": 10,
   "metadata": {},
   "outputs": [],
   "source": [
    "class FibonacciIterator:\n",
    "  def __init__(self, max_terms):\n",
    "    self.max_terms = max_terms\n",
    "    self.count = 0\n",
    "    self.a = 0\n",
    "    self.b = 1\n",
    "\n",
    "  def __iter__(self):\n",
    "    return self\n",
    "\n",
    "  def __next__(self):\n",
    "    if self.count < self.max_terms:\n",
    "      result = self.a\n",
    "      self.a, self.b = self.b, self.a + self.b\n",
    "      self.count += 1\n",
    "      return result\n",
    "    else:\n",
    "      raise StopIteration"
   ]
  },
  {
   "cell_type": "code",
   "execution_count": 13,
   "metadata": {},
   "outputs": [
    {
     "name": "stdout",
     "output_type": "stream",
     "text": [
      "0\n",
      "1\n",
      "1\n",
      "2\n",
      "3\n",
      "5\n",
      "8\n",
      "13\n",
      "21\n",
      "34\n"
     ]
    }
   ],
   "source": [
    "fib_iter = FibonacciIterator(10)\n",
    "for num in fib_iter:\n",
    "  print(num)"
   ]
  },
  {
   "cell_type": "markdown",
   "metadata": {},
   "source": [
    "Q6: Write a generator function in Python that yields the powers of 2 up to a given exponent"
   ]
  },
  {
   "cell_type": "code",
   "execution_count": 17,
   "metadata": {},
   "outputs": [
    {
     "name": "stdout",
     "output_type": "stream",
     "text": [
      "1\n",
      "2\n",
      "4\n",
      "8\n",
      "16\n",
      "32\n"
     ]
    }
   ],
   "source": [
    "def powers_of_2(exponent):\n",
    "  for i in range(exponent + 1):\n",
    "    yield 2 ** i\n",
    "    \n",
    "for power in powers_of_2(5):\n",
    "  print(power)"
   ]
  },
  {
   "cell_type": "markdown",
   "metadata": {},
   "source": [
    "Q7: Implement a generator function that reads a file line by line and yields each line as a string."
   ]
  },
  {
   "cell_type": "code",
   "execution_count": 25,
   "metadata": {},
   "outputs": [
    {
     "name": "stdout",
     "output_type": "stream",
     "text": [
      "Hello PW student\n"
     ]
    }
   ],
   "source": [
    "def read_file(filename):\n",
    "  with open(filename, 'r') as file:\n",
    "    for line in file:\n",
    "      yield line.strip()\n",
    "  \n",
    "file_generator = read_file('file.txt')\n",
    "for line in file_generator:\n",
    "  print(line)"
   ]
  },
  {
   "cell_type": "markdown",
   "metadata": {},
   "source": [
    "Q8: Use a lambda function in Python to sort a list of tuples based on the second element of each tuple."
   ]
  },
  {
   "cell_type": "code",
   "execution_count": 26,
   "metadata": {},
   "outputs": [
    {
     "data": {
      "text/plain": [
       "[(3, 2), (1, 5), (2, 8)]"
      ]
     },
     "execution_count": 26,
     "metadata": {},
     "output_type": "execute_result"
    }
   ],
   "source": [
    "my_list = [(1, 5), (3, 2), (2, 8)]\n",
    "sorted_list = sorted(my_list, key=lambda x: x[1])\n",
    "sorted_list"
   ]
  },
  {
   "cell_type": "markdown",
   "metadata": {},
   "source": [
    "Q9: Write a Python program that uses `map()` to convert a list of temperatures from Celsius to Fahrenheit"
   ]
  },
  {
   "cell_type": "code",
   "execution_count": 27,
   "metadata": {},
   "outputs": [
    {
     "data": {
      "text/plain": [
       "[32.0, 50.0, 68.0, 86.0, 104.0]"
      ]
     },
     "execution_count": 27,
     "metadata": {},
     "output_type": "execute_result"
    }
   ],
   "source": [
    "celsius_temps = [0, 10, 20, 30, 40]\n",
    "fahrenheit_temps = list(map(lambda c: (9/5) * c + 32, celsius_temps))\n",
    "fahrenheit_temps"
   ]
  },
  {
   "cell_type": "markdown",
   "metadata": {},
   "source": [
    "10: Create a Python program that uses `filter()` to remove all the vowels from a given string."
   ]
  },
  {
   "cell_type": "code",
   "execution_count": 30,
   "metadata": {},
   "outputs": [
    {
     "data": {
      "text/plain": [
       "'Hll PW stdnts'"
      ]
     },
     "execution_count": 30,
     "metadata": {},
     "output_type": "execute_result"
    }
   ],
   "source": [
    "string = \"Hello PW students\"\n",
    "vowels = \"aeiouAEIOU\"\n",
    "filtered_string = ''.join(filter(lambda x: x not in vowels, string))\n",
    "filtered_string"
   ]
  },
  {
   "cell_type": "markdown",
   "metadata": {},
   "source": [
    "Q11: Imagine an accounting routine used in a book shop. It works on a list with sublists, which look like this-\n",
    "orders = [ [\"34587\", \"Learning Python, Mark Lutz\", 4, 40.95], \n",
    "\n",
    "           [\"98762\", \"Programming Python, Mark Lutz\", 5, 56.80], \n",
    "\n",
    "           [\"77226\", \"Head First Python, Paul Barry\", 3,32.95],\n",
    "\n",
    "           [\"88112\", \"Einführung in Python3, Bernd Klein\", \t3, 24.99]\n",
    "           \n",
    "        ]\n",
    "\n",
    "Write a Python program, which returns a list with 2-tuples. Each tuple consists of the order number and the \n",
    "product of the price per item and the quantity. The product should be increased by 10,- € if the value of the \n",
    "order is smaller than 100,00 €.\n",
    "\n",
    "Write a Python program using lambda and map"
   ]
  },
  {
   "cell_type": "code",
   "execution_count": 3,
   "metadata": {},
   "outputs": [],
   "source": [
    "orders = [ [\"34587\", \"Learning Python, Mark Lutz\", 4, 40.95], \n",
    "           [\"98762\", \"Programming Python, Mark Lutz\", 5, 56.80], \n",
    "           [\"77226\", \"Head First Python, Paul Barry\", 3,32.95],\n",
    "           [\"88112\", \"Einführung in Python3, Bernd Klein\", \t3, 24.99]]\n",
    "\n",
    "min_order = 100\n",
    "invoice_totals1 = list(map(lambda x: (x[0],x[2] * x[3]), orders))\n",
    "invoice_totals2 = list(map(lambda x: x if x[1] >= min_order else (x[0], x[1] + 10), invoice_totals1))"
   ]
  },
  {
   "cell_type": "code",
   "execution_count": 4,
   "metadata": {},
   "outputs": [
    {
     "data": {
      "text/plain": [
       "[('34587', 163.8),\n",
       " ('98762', 284.0),\n",
       " ('77226', 98.85000000000001),\n",
       " ('88112', 74.97)]"
      ]
     },
     "execution_count": 4,
     "metadata": {},
     "output_type": "execute_result"
    }
   ],
   "source": [
    "invoice_totals1"
   ]
  },
  {
   "cell_type": "code",
   "execution_count": 5,
   "metadata": {},
   "outputs": [
    {
     "data": {
      "text/plain": [
       "[('34587', 163.8),\n",
       " ('98762', 284.0),\n",
       " ('77226', 108.85000000000001),\n",
       " ('88112', 84.97)]"
      ]
     },
     "execution_count": 5,
     "metadata": {},
     "output_type": "execute_result"
    }
   ],
   "source": [
    "invoice_totals2"
   ]
  },
  {
   "cell_type": "markdown",
   "metadata": {},
   "source": [
    "Theoritical Questions part"
   ]
  },
  {
   "cell_type": "markdown",
   "metadata": {},
   "source": [
    "\n",
    "1. What is the difference between a function and a method in Python?\n",
    "\n",
    "2. Explain the concept of function arguments and parameters in Python.\n",
    "\n",
    "3. What are the different ways to define and call a function in Python?\n",
    "\n",
    "4. What is the purpose of the `return` statement in a Python function?\n",
    "\n",
    "5. What are iterators in Python and how do they differ from iterables?\n",
    "\n",
    "6. Explain the concept of generators in Python and how they are defined.\n",
    "\n",
    "7. What are the advantages of using generators over regular functions?\n",
    "\n",
    "8. What is a lambda function in Python and when is it typically used?\n",
    "\n",
    "9. Explain the purpose and usage of the `map()` function in Python.\n",
    "\n",
    "10. What is the difference between `map()`, `reduce()`, and `filter()` functions in Python?\n",
    "\n",
    "11. Using pen & Paper write the internal mechanism for sum operation using  reduce function on this given \n",
    "list:[47,11,42,13];"
   ]
  },
  {
   "cell_type": "markdown",
   "metadata": {},
   "source": [
    "Q1: What is the difference between a function and a method in Python?\n",
    "\n",
    "FUNCTION\n",
    "\n",
    "==> A function is a block of code that is called by its name. It can have parameters and return a value.\n",
    "\n",
    "==> Functions are defined using the def keyword. This is followed by the function name, a set of parentheses, and a colon. The code that the function executes is indented below the def statement.\n",
    "\n",
    "==> Functions can take parameters. Parameters are values that are passed to the function when it is called. In the add(x, y) example, x and y are parameters.\n",
    "\n",
    "==>  Functions can return values. The return statement is used to specify the value that the function should return. In the add(x, y) example, the function returns the sum of x and y.\n",
    "Functions can be called from anywhere in your code. Once you have defined a function, you can call it from any other part of your code.\n",
    "\n",
    "==> Functions can be nested. You can define a function inside of another function.\n",
    "==> Functions are first-class objects. This means that you can assign functions to variables, pass them as parameters to other functions, and return them from functions.\n",
    "\n",
    "==> Functions are a powerful tool in Python that allow you to break your code down into smaller, more manageable chunks. They can also be used to create reusable code that can be called from multiple places in your program.\n"
   ]
  },
  {
   "cell_type": "code",
   "execution_count": 12,
   "metadata": {},
   "outputs": [
    {
     "name": "stdout",
     "output_type": "stream",
     "text": [
      "35\n"
     ]
    }
   ],
   "source": [
    "#THIS IS FUNCTION\n",
    "def add(x, y):\n",
    "  return x + y\n",
    "print(add(12,23))"
   ]
  },
  {
   "cell_type": "markdown",
   "metadata": {},
   "source": [
    "METHOD \n",
    "\n",
    "==> A method is a function that is associated with an object. It is called using the object's name and the dot operator.\n",
    "\n",
    "==> Methods are called on an object, while functions are not. In the example above, the bark() method is called on the my_dog object. The add() function is not called on any object.\n",
    "\n",
    "==> Methods have access to the object's attributes and can modify them. In the example above, the bark() method has access to the my_dog object's name attribute. It could also modify this attribute if it wanted to.\n",
    "\n",
    "==>  The first parameter of a method is always self. This parameter refers to the object that the method is being called on. In the example above, the self parameter in the bark() method refers to the my_dog object."
   ]
  },
  {
   "cell_type": "code",
   "execution_count": 11,
   "metadata": {},
   "outputs": [
    {
     "name": "stdout",
     "output_type": "stream",
     "text": [
      "Woof!\n"
     ]
    }
   ],
   "source": [
    "class Dog:\n",
    "  def __init__(self, name):\n",
    "    self.name = name\n",
    "  \n",
    "#THIS IS METHOD\n",
    "  def bark(self):\n",
    "    print(\"Woof!\")\n",
    "\n",
    "my_dog = Dog(\"Buddy\")\n",
    "my_dog.bark()"
   ]
  },
  {
   "cell_type": "markdown",
   "metadata": {},
   "source": [
    "Q2. Explain the concept of function arguments and parameters in Python."
   ]
  },
  {
   "cell_type": "markdown",
   "metadata": {},
   "source": [
    "In Python, functions are a way to encapsulate a block of code that performs a specific task. To make functions more flexible and reusable, we use parameters and arguments. Here’s a breakdown of these concepts:\n",
    "\n",
    "Parameters\n",
    "\n",
    "Definition: Parameters are the variables listed inside the parentheses in the function definition.\n",
    "\n",
    "Purpose: They act as placeholders for the values that will be passed to the function when it is called.\n"
   ]
  },
  {
   "cell_type": "code",
   "execution_count": 6,
   "metadata": {},
   "outputs": [],
   "source": [
    "def pw_greet(name):\n",
    "    print(f\"Welcome to the PW skills, {name}!\")"
   ]
  },
  {
   "cell_type": "markdown",
   "metadata": {},
   "source": [
    "Arguments\n",
    "\n",
    "Definition: Arguments are the actual values passed to the function when it is called.\n",
    "\n",
    "Purpose: They provide the data that the function will use to perform its task."
   ]
  },
  {
   "cell_type": "code",
   "execution_count": 8,
   "metadata": {},
   "outputs": [
    {
     "name": "stdout",
     "output_type": "stream",
     "text": [
      "Welcome to the PW skills, Jibrail!\n"
     ]
    }
   ],
   "source": [
    "pw_greet(\"Jibrail\")"
   ]
  },
  {
   "cell_type": "markdown",
   "metadata": {},
   "source": [
    "Types of Arguments"
   ]
  },
  {
   "cell_type": "code",
   "execution_count": 11,
   "metadata": {},
   "outputs": [
    {
     "data": {
      "text/plain": [
       "8"
      ]
     },
     "execution_count": 11,
     "metadata": {},
     "output_type": "execute_result"
    }
   ],
   "source": [
    "#Positional Arguments: These are the most common type of arguments. \n",
    "#They are passed to the function in the same order as the parameters.\n",
    "def add(a, b):\n",
    "    return a + b\n",
    "\n",
    "result = add(3, 5)  # 3 and 5 are positional arguments\n",
    "result"
   ]
  },
  {
   "cell_type": "code",
   "execution_count": 13,
   "metadata": {},
   "outputs": [
    {
     "name": "stdout",
     "output_type": "stream",
     "text": [
      "My name is Jibrail and I am 24 years old.\n"
     ]
    }
   ],
   "source": [
    "#Keyword Arguments: These arguments are passed to the function by explicitly naming each parameter and assigning it a value.\n",
    "def introduce(name, age):\n",
    "    print(f\"My name is {name} and I am {age} years old.\")\n",
    "\n",
    "introduce(name=\"Jibrail\", age=24)  # name and age are keyword arguments"
   ]
  },
  {
   "cell_type": "code",
   "execution_count": 15,
   "metadata": {},
   "outputs": [
    {
     "name": "stdout",
     "output_type": "stream",
     "text": [
      "Hello, Jibrail!\n",
      "Hello, PW Students!\n"
     ]
    }
   ],
   "source": [
    "#Default Arguments: These are parameters that assume a default value if no argument is provided.\n",
    "\n",
    "def greet(name=\"Jibrail\"):\n",
    "    print(f\"Hello, {name}!\")\n",
    "\n",
    "greet()  # Uses the default value \"Jibrail\"\n",
    "greet(\"PW Students\")  # Overrides the default value with \"Alice\""
   ]
  },
  {
   "cell_type": "code",
   "execution_count": 16,
   "metadata": {},
   "outputs": [
    {
     "name": "stdout",
     "output_type": "stream",
     "text": [
      "10\n"
     ]
    }
   ],
   "source": [
    "'''Variable-length Arguments: These allow a function to accept an arbitrary number of arguments.\n",
    "*args: Used to pass a variable number of non-keyword arguments'''\n",
    "def sum_all(*args):\n",
    "    return sum(args)\n",
    "\n",
    "print(sum_all(1, 2, 3, 4))  # Outputs 10"
   ]
  },
  {
   "cell_type": "code",
   "execution_count": 18,
   "metadata": {},
   "outputs": [
    {
     "name": "stdout",
     "output_type": "stream",
     "text": [
      "name: Jibrail\n",
      "age: 24\n",
      "city: New Dehli\n"
     ]
    }
   ],
   "source": [
    "#**kwargs: Used to pass a variable number of keyword arguments.\n",
    "\n",
    "def print_info(**kwargs):\n",
    "    for key, value in kwargs.items():\n",
    "        print(f\"{key}: {value}\")\n",
    "\n",
    "print_info(name=\"Jibrail\", age=24, city=\"New Dehli\")"
   ]
  },
  {
   "cell_type": "markdown",
   "metadata": {},
   "source": [
    "Q3: What are the different ways to define and call a function in Python?"
   ]
  },
  {
   "cell_type": "code",
   "execution_count": 19,
   "metadata": {},
   "outputs": [
    {
     "name": "stdout",
     "output_type": "stream",
     "text": [
      "8\n",
      "Hello from the inner function!\n",
      "Hello, Guest!\n",
      "Hello, Alice!\n",
      "10\n",
      "name: Alice\n",
      "age: 25\n",
      "city: New York\n"
     ]
    }
   ],
   "source": [
    "'''\n",
    "In Python, functions can be defined and called in several ways, each serving different purposes and offering various levels of flexibility. \n",
    "Here are the main methods-\n",
    "\n",
    "Defining Functions\n",
    "1: Standard Function Definition:'''\n",
    "\n",
    "def greet(name):\n",
    "    print(f\"Hello, {name}!\")\n",
    "\n",
    "'''\n",
    "2: Lambda Functions: These are small anonymous functions defined using the lambda keyword.\n",
    "'''\n",
    "\n",
    "add = lambda x, y: x + y\n",
    "print(add(3, 5))  # Outputs 8\n",
    "\n",
    "'''\n",
    "3: Nested Functions: Functions defined within other functions.\n",
    "'''\n",
    "\n",
    "def outer_function(text):\n",
    "    def inner_function():\n",
    "        print(text)\n",
    "    inner_function()\n",
    "\n",
    "outer_function(\"Hello from the inner function!\")\n",
    "'''\n",
    "4: Functions with Default Parameters:\n",
    "'''\n",
    "\n",
    "def greet(name=\"Guest\"):\n",
    "    print(f\"Hello, {name}!\")\n",
    "\n",
    "greet()  # Outputs: Hello, Guest!\n",
    "greet(\"Alice\")  # Outputs: Hello, Alice!\n",
    "\n",
    "'''\n",
    "5: Variable-length Arguments:\n",
    "*args: For non-keyword variable-length arguments.\n",
    "'''\n",
    "\n",
    "def sum_all(*args):\n",
    "    return sum(args)\n",
    "\n",
    "print(sum_all(1, 2, 3, 4))  # Outputs 10\n",
    "\n",
    "'''\n",
    "**kwargs: For keyword variable-length arguments.\n",
    "'''\n",
    "\n",
    "def print_info(**kwargs):\n",
    "    for key, value in kwargs.items():\n",
    "        print(f\"{key}: {value}\")\n",
    "\n",
    "print_info(name=\"Alice\", age=25, city=\"New York\")\n"
   ]
  },
  {
   "cell_type": "code",
   "execution_count": 20,
   "metadata": {},
   "outputs": [
    {
     "name": "stdout",
     "output_type": "stream",
     "text": [
      "Hello, Alice!\n",
      "My name is Bob and I am 30 years old.\n",
      "My name is Bob and I am 30 years old.\n",
      "8\n"
     ]
    }
   ],
   "source": [
    "'''\n",
    "Calling Functions\n",
    "1: Standard Function Call:\n",
    "'''\n",
    "\n",
    "greet(\"Alice\")  # Outputs: Hello, Alice!\n",
    "\n",
    "'''\n",
    "2: Using Positional Arguments:\n",
    "'''\n",
    "\n",
    "def add(a, b):\n",
    "    return a + b\n",
    "\n",
    "result = add(3, 5)  # 3 and 5 are positional arguments\n",
    "\n",
    "'''\n",
    "3: Using Keyword Arguments:\n",
    "'''\n",
    "\n",
    "def introduce(name, age):\n",
    "    print(f\"My name is {name} and I am {age} years old.\")\n",
    "\n",
    "introduce(name=\"Bob\", age=30)  # name and age are keyword arguments\n",
    "\n",
    "'''\n",
    "4: Unpacking Arguments:\n",
    "   - Using * for lists/tuples:\n",
    "'''\n",
    "\n",
    "def add(a, b):\n",
    "    return a + b\n",
    "\n",
    "numbers = (3, 5)\n",
    "result = add(*numbers)  # Unpacks the tuple into positional arguments\n",
    "\n",
    "'''\n",
    "   - Using ** for dictionaries:\n",
    "'''\n",
    "\n",
    "def introduce(name, age):\n",
    "    print(f\"My name is {name} and I am {age} years old.\")\n",
    "\n",
    "info = {\"name\": \"Bob\", \"age\": 30}\n",
    "introduce(**info)  # Unpacks the dictionary into keyword arguments\n",
    "\n",
    "'''\n",
    "5: Calling Lambda Functions:\n",
    "'''\n",
    "\n",
    "add = lambda x, y: x + y\n",
    "print(add(3, 5))  # Outputs 8"
   ]
  },
  {
   "cell_type": "markdown",
   "metadata": {},
   "source": [
    "Q3: What is the purpose of the `return` statement in a Python function?"
   ]
  },
  {
   "cell_type": "code",
   "execution_count": 22,
   "metadata": {},
   "outputs": [
    {
     "name": "stdout",
     "output_type": "stream",
     "text": [
      "8\n",
      "True\n",
      "False\n",
      "Alice\n",
      "30\n",
      "Hello, Alice!\n",
      "None\n",
      "120\n"
     ]
    }
   ],
   "source": [
    "#The return statement in a Python function serves several important purposes:\n",
    "'''\n",
    "1. Returning a Value\n",
    "The primary purpose of the return statement is to send a value back to the caller of the function. \n",
    "This allows the function to produce a result that can be used elsewhere in the program.\n",
    "'''\n",
    "\n",
    "def add(a, b):\n",
    "    return a + b\n",
    "\n",
    "result = add(3, 5)\n",
    "print(result)  # Outputs: 8\n",
    "\n",
    "'''\n",
    "2. Exiting a Function\n",
    "The return statement also immediately terminates the execution of the function. \n",
    "Any code after the return statement will not be executed.\n",
    "'''\n",
    "\n",
    "def check_even(number):\n",
    "    if number % 2 == 0:\n",
    "        return True\n",
    "    return False\n",
    "\n",
    "print(check_even(4))  # Outputs: True\n",
    "print(check_even(5))  # Outputs: False\n",
    "\n",
    "'''\n",
    "3. Returning Multiple Values\n",
    "In Python, you can return multiple values from a function by separating them with commas. These values are returned as a tuple.\n",
    "'''\n",
    "\n",
    "def get_name_and_age():\n",
    "    name = \"Alice\"\n",
    "    age = 30\n",
    "    return name, age\n",
    "\n",
    "name, age = get_name_and_age()\n",
    "print(name)  # Outputs: Alice\n",
    "print(age)  # Outputs: 30\n",
    "\n",
    "'''\n",
    "4. Returning None\n",
    "If a function does not have a return statement, or if the return statement is used without an expression, \n",
    "the function returns None by default.\n",
    "'''\n",
    "\n",
    "def greet(name):\n",
    "    print(f\"Hello, {name}!\")\n",
    "\n",
    "result = greet(\"Alice\")\n",
    "print(result)  # Outputs: None\n",
    "\n",
    "'''\n",
    "5. Using return in Recursive Functions\n",
    "In recursive functions, the return statement is crucial for passing the result of the recursive call back up the call stack.\n",
    "'''\n",
    "\n",
    "def factorial(n):\n",
    "    if n == 1:\n",
    "        return 1\n",
    "    else:\n",
    "        return n * factorial(n - 1)\n",
    "\n",
    "print(factorial(5))  # Outputs: 120"
   ]
  },
  {
   "cell_type": "markdown",
   "metadata": {},
   "source": [
    "Q5: What are iterators in Python and how do they differ from iterables?\n",
    "In Python, iterators and iterables are fundamental concepts for working with sequences of data. Here’s a theoretical overview of both:\n",
    "\n",
    "Iterables\n",
    "\n",
    "Definition: An iterable is any Python object capable of returning its members one at a time, allowing it to be looped over in a for loop.\n",
    "\n",
    "Examples: Common examples include lists, tuples, strings, dictionaries, and sets.\n",
    "\n",
    "How it Works: An iterable has an __iter__() method that returns an iterator."
   ]
  },
  {
   "cell_type": "code",
   "execution_count": 24,
   "metadata": {},
   "outputs": [
    {
     "name": "stdout",
     "output_type": "stream",
     "text": [
      "1\n",
      "2\n",
      "3\n"
     ]
    }
   ],
   "source": [
    "my_list = [1, 2, 3]\n",
    "for item in my_list:\n",
    "    print(item)"
   ]
  },
  {
   "cell_type": "markdown",
   "metadata": {},
   "source": [
    "Iterators\n",
    "\n",
    "Definition: An iterator is an object that represents a stream of data. It returns the data one element at a time when you call its __next__() method.\n",
    "\n",
    "How it Works: An iterator must implement two methods: __iter__() and __next__().\n",
    "\n",
    "__iter__(): Returns the iterator object itself.\n",
    "\n",
    "__next__(): Returns the next item from the sequence. If there are no more items, it raises a StopIteration exception."
   ]
  },
  {
   "cell_type": "code",
   "execution_count": 25,
   "metadata": {},
   "outputs": [
    {
     "name": "stdout",
     "output_type": "stream",
     "text": [
      "1\n",
      "2\n",
      "3\n"
     ]
    }
   ],
   "source": [
    "class MyIterator:\n",
    "    def __init__(self, data):\n",
    "        self.data = data\n",
    "        self.index = 0\n",
    "\n",
    "    def __iter__(self):\n",
    "        return self\n",
    "\n",
    "    def __next__(self):\n",
    "        if self.index < len(self.data):\n",
    "            item = self.data[self.index]\n",
    "            self.index += 1\n",
    "            return item\n",
    "        else:\n",
    "            raise StopIteration\n",
    "\n",
    "my_iter = MyIterator([1, 2, 3])\n",
    "for item in my_iter:\n",
    "    print(item)\n"
   ]
  },
  {
   "cell_type": "markdown",
   "metadata": {},
   "source": [
    "Key Differences\n",
    "\n",
    "1: Definition:\n",
    "\n",
    "Iterable: An object with an __iter__() method that returns an iterator.\n",
    "\n",
    "Iterator: An object with both __iter__() and __next__() methods.\n",
    "\n",
    "2: Functionality:\n",
    "\n",
    "Iterable: Can be looped over using a for loop or other iteration contexts.\n",
    "\n",
    "Iterator: Provides a way to access elements of an iterable one at a time.\n",
    "\n",
    "3: State:\n",
    "\n",
    "Iterable: Does not maintain any state.\n",
    "\n",
    "Iterator: Maintains state (e.g., the current position in the sequence).\n",
    "\n",
    "4: Reusability:\n",
    "\n",
    "Iterable: Can be reused to create new iterators.\n",
    "\n",
    "Iterator: Once exhausted (i.e., all elements are accessed), it cannot be reset or reused.\n",
    "\n",
    "5: Practical Implications\n",
    "\n",
    "Iterables are more general and can be used to create iterators.\n",
    "\n",
    "Iterators are useful for processing data streams or large datasets where you don’t want to load everything into memory at once."
   ]
  },
  {
   "cell_type": "markdown",
   "metadata": {},
   "source": [
    "Q6: Explain the concept of generators in Python and how they are defined."
   ]
  },
  {
   "cell_type": "markdown",
   "metadata": {},
   "source": [
    "Generators in Python are a special type of iterable that allow you to iterate over data without storing the entire sequence in memory at once. They are particularly useful for working with large datasets or streams of data where you want to generate values on the fly.\n",
    "\n",
    "Key Concepts of Generators\n",
    "\n",
    "1: Lazy Evaluation: Generators produce items only when requested, which makes them memory efficient.\n",
    "\n",
    "2: Stateful Iteration: Generators maintain their state between iterations, allowing them to resume where they left off.\n",
    "\n",
    "3: Single-use: Once a generator has been exhausted, it cannot be reused or reset.\n",
    "\n",
    "Defining Generators\n",
    "\n",
    "Generators can be defined in two main ways: using generator functions and generator expressions.\n",
    "\n",
    "1. Generator Functions\n",
    "\n",
    "A generator function is defined like a normal function but uses the yield statement to return values one at a time. Each time yield is called, the function’s state is saved, and it can be resumed later."
   ]
  },
  {
   "cell_type": "code",
   "execution_count": 28,
   "metadata": {},
   "outputs": [
    {
     "name": "stdout",
     "output_type": "stream",
     "text": [
      "1\n",
      "2\n",
      "3\n",
      "4\n",
      "5\n"
     ]
    }
   ],
   "source": [
    "def count_up_to(max):\n",
    "    count = 1\n",
    "    while count <= max:\n",
    "        yield count\n",
    "        count += 1\n",
    "\n",
    "counter = count_up_to(5)\n",
    "for number in counter:\n",
    "    print(number)\n",
    "\n",
    "#count_up_to is a generator function that yields numbers from 1 to max. \n",
    "#Each call to yield pauses the function and saves its state, allowing it to resume from where it left off.\n"
   ]
  },
  {
   "cell_type": "markdown",
   "metadata": {},
   "source": [
    "2. Generator Expressions\n",
    "\n",
    "Generator expressions provide a concise way to create generators. They are similar to list comprehensions but use parentheses instead of square brackets."
   ]
  },
  {
   "cell_type": "code",
   "execution_count": 29,
   "metadata": {},
   "outputs": [
    {
     "name": "stdout",
     "output_type": "stream",
     "text": [
      "0\n",
      "1\n",
      "4\n",
      "9\n",
      "16\n",
      "25\n",
      "36\n",
      "49\n",
      "64\n",
      "81\n"
     ]
    }
   ],
   "source": [
    "squares = (x * x for x in range(10))\n",
    "for square in squares:\n",
    "    print(square)"
   ]
  },
  {
   "cell_type": "markdown",
   "metadata": {},
   "source": [
    "Use Cases\n",
    "\n",
    "1: Reading large files: Generators can be used to read large files line by line without loading the entire file into memory.\n",
    "\n",
    "2: Infinite sequences: Generators can produce infinite sequences, such as an endless stream of random numbers or an infinite Fibonacci sequence.\n",
    "\n",
    "3: Pipelines: Generators can be used to create data processing pipelines, where each generator processes data and passes it to the next generator in the chain.\n",
    "\n",
    "Generators are a powerful feature in Python that can help you write more efficient and readable code. "
   ]
  },
  {
   "cell_type": "markdown",
   "metadata": {},
   "source": [
    "Q7: What are the advantages of using generators over regular functions"
   ]
  },
  {
   "cell_type": "markdown",
   "metadata": {},
   "source": [
    "Generators offer several advantages over regular functions, particularly when dealing with large datasets or streams of data. Here are some key benefits:\n",
    "\n",
    "1.Memory Efficiency\n",
    "\n",
    "Generators: Generate items one at a time and only when needed, which means they don’t require memory to store the entire sequence.\n",
    "\n",
    "Regular Functions: Typically return lists or other collections that store all elements in memory, which can be inefficient for large datasets..\n",
    "\n",
    "2.Lazy Evaluation\n",
    "\n",
    "Generators: Produce values on-the-fly, which can lead to performance improvements, especially when dealing with large or infinite sequences.\n",
    "\n",
    "Regular Functions: Compute and return all values at once, which can be slower and more resource-intensive.\n",
    "\n",
    "3.Improved Performance\n",
    "\n",
    "Generators: Can be faster because they yield items as they are produced, avoiding the overhead of creating and storing large data structures.\n",
    "\n",
    "Regular Functions: May incur performance penalties due to the need to create and manage large collections in memory.\n",
    "\n",
    "4.Simplified Code\n",
    "\n",
    "Generators: Often result in more readable and maintainable code, especially for complex data processing tasks.\n",
    "\n",
    "Regular Functions: May require additional logic to handle large datasets efficiently, leading to more complex and harder-to-read code.\n",
    "\n",
    "5.Infinite Sequences\n",
    "\n",
    "Generators: Can produce infinite sequences, such as an endless stream of random numbers or an infinite Fibonacci sequence, without running out of memory.\n",
    "\n",
    "Regular Functions: Cannot handle infinite sequences because they would attempt to create an infinitely large data structure, leading to memory exhaustion.\n",
    "\n",
    "6.Pipeline Processing\n",
    "\n",
    "Generators: Can be used to create data processing pipelines, where each generator processes data and passes it to the next generator in the chain. This allows for efficient, step-by-step processing of data.\n",
    "\n",
    "Regular Functions: Typically require intermediate storage of data between processing steps, which can be less efficient."
   ]
  },
  {
   "cell_type": "markdown",
   "metadata": {},
   "source": [
    "Q8: What is a lambda function in Python and when is it typically used?"
   ]
  },
  {
   "cell_type": "markdown",
   "metadata": {},
   "source": [
    "A lambda function in Python is a small, anonymous function defined using the lambda keyword. Unlike regular functions created with the def keyword, lambda functions are typically used for short, simple operations and are often used in places where a full function definition would be overkill.\n",
    "\n",
    "Typical Uses of Lambda Functions"
   ]
  },
  {
   "cell_type": "code",
   "execution_count": 35,
   "metadata": {},
   "outputs": [
    {
     "name": "stdout",
     "output_type": "stream",
     "text": [
      "16\n",
      "[1, 4, 9, 16]\n",
      "[2, 4, 6]\n",
      "24\n"
     ]
    }
   ],
   "source": [
    "'''\n",
    "1: Short, Throwaway Functions: Lambda functions are often used for small, \n",
    "one-off operations where defining a full function would be unnecessary.\n",
    "'''\n",
    "square = lambda x: x * x\n",
    "print(square(4))  # Outputs: 16\n",
    "\n",
    "'''\n",
    "2: Functional Programming: Lambda functions are commonly used with functions like map(), filter(), \n",
    "and reduce() to apply a function to a sequence of elements.\n",
    "'''\n",
    "numbers = [1, 2, 3, 4]\n",
    "squares = map(lambda x: x * x, numbers)\n",
    "print(list(squares))  # Outputs: [1, 4, 9, 16]\n",
    "\n",
    "\n",
    "numbers = [1, 2, 3, 4, 5, 6]\n",
    "evens = filter(lambda x: x % 2 == 0, numbers)\n",
    "print(list(evens))  # Outputs: [2, 4, 6]\n",
    "\n",
    "\n",
    "from functools import reduce\n",
    "numbers = [1, 2, 3, 4]\n",
    "product = reduce(lambda x, y: x * y, numbers)\n",
    "print(product)  # Outputs: 24\n",
    "\n",
    "\n"
   ]
  },
  {
   "cell_type": "code",
   "execution_count": 40,
   "metadata": {},
   "outputs": [
    {
     "name": "stdout",
     "output_type": "stream",
     "text": [
      "[(5, -1), (3, 1), (1, 2), (2, 3)]\n",
      "end here\n"
     ]
    }
   ],
   "source": [
    "'''\n",
    "3: Sorting and Key Functions: Lambda functions are often used as key functions in sorting operations.\n",
    "'''\n",
    "\n",
    "points = [(1, 2), (3, 1), (5, -1), (2, 3)]\n",
    "points_sorted = sorted(points, key=lambda point: point[1])\n",
    "print(points_sorted)  # Outputs: [(5, -1), (3, 1), (1, 2), (2, 3)]\n",
    "\n",
    "\n",
    "'''\n",
    "Limitations\n",
    "1: Single Expression: Lambda functions can only contain a single expression and cannot include statements or annotations.\n",
    "2: Readability: Overusing lambda functions can make code harder to read and understand, especially for complex operations.\n",
    "'''\n",
    "print('end here')"
   ]
  },
  {
   "cell_type": "markdown",
   "metadata": {},
   "source": [
    "Q9: Explain the purpose and usage of the `map()` function in Python."
   ]
  },
  {
   "cell_type": "markdown",
   "metadata": {},
   "source": [
    "The map() function in Python is a built-in function that allows you to apply a given function to all items in an iterable (like a list or tuple) and return a map object (which is an iterator). This is particularly useful for transforming data or performing operations on each element of a collection without using explicit loops.\n",
    "\n",
    "Purpose\n",
    "\n",
    "The primary purpose of map() is to simplify the process of applying a function to each item in an iterable. It helps make your code more concise and readable.\n",
    "\n",
    "Usage\n",
    "\n",
    "function: The function to apply to each item.\n",
    "\n",
    "iterable: One or more iterables (e.g., lists, tuples)."
   ]
  },
  {
   "cell_type": "markdown",
   "metadata": {},
   "source": [
    "Q10: What is the difference between `map()`, `reduce()`, and `filter()` functions in Python?"
   ]
  },
  {
   "cell_type": "markdown",
   "metadata": {},
   "source": [
    "The map(), reduce(), and filter() functions in Python are all used for functional programming, allowing you to apply functions to collections of data. However, they serve different purposes and have distinct behaviors.\n",
    "\n",
    "map()\n",
    "\n",
    "Purpose: Applies a given function to each item of an iterable (e.g., list, tuple) and returns a map object (an iterator).\n",
    "\n",
    "Usage: Transforming data."
   ]
  },
  {
   "cell_type": "code",
   "execution_count": 42,
   "metadata": {},
   "outputs": [
    {
     "name": "stdout",
     "output_type": "stream",
     "text": [
      "[1, 4, 9, 16, 25]\n"
     ]
    }
   ],
   "source": [
    "numbers = [1, 2, 3, 4, 5]\n",
    "squared_numbers = map(lambda x: x * x, numbers)\n",
    "print(list(squared_numbers))  # Output: [1, 4, 9, 16, 25]"
   ]
  },
  {
   "cell_type": "markdown",
   "metadata": {},
   "source": [
    "reduce()\n",
    "\n",
    "Purpose: Applies a given function cumulatively to the items of an iterable, from left to right, so as to reduce the iterable to a single value.\n",
    "\n",
    "Usage: Aggregating data.\n"
   ]
  },
  {
   "cell_type": "code",
   "execution_count": 43,
   "metadata": {},
   "outputs": [
    {
     "name": "stdout",
     "output_type": "stream",
     "text": [
      "15\n"
     ]
    }
   ],
   "source": [
    "from functools import reduce\n",
    "\n",
    "numbers = [1, 2, 3, 4, 5]\n",
    "sum_of_numbers = reduce(lambda x, y: x + y, numbers)\n",
    "print(sum_of_numbers)  # Output: 15\n"
   ]
  },
  {
   "cell_type": "markdown",
   "metadata": {},
   "source": [
    "filter()\n",
    "\n",
    "Purpose: Constructs an iterator from elements of an iterable for which a function returns true.\n",
    "\n",
    "Usage: Filtering data."
   ]
  },
  {
   "cell_type": "code",
   "execution_count": 44,
   "metadata": {},
   "outputs": [
    {
     "name": "stdout",
     "output_type": "stream",
     "text": [
      "[2, 4]\n"
     ]
    }
   ],
   "source": [
    "numbers = [1, 2, 3, 4, 5]\n",
    "even_numbers = filter(lambda x: x % 2 == 0, numbers)\n",
    "print(list(even_numbers))  # Output: [2, 4]"
   ]
  },
  {
   "cell_type": "markdown",
   "metadata": {},
   "source": [
    "1: Functionality:\n",
    "\n",
    "map(): Transforms each item in an iterable.\n",
    "reduce(): Aggregates all items in an iterable into a single value.\n",
    "filter(): Selects items from an iterable based on a condition.\n",
    "\n",
    "2: Return Type:\n",
    "\n",
    "map() and filter() return iterators.\n",
    "\n",
    "reduce() returns a single value.\n",
    "\n",
    "3: Use Cases:\n",
    "\n",
    "Use map() when you need to apply a function to each element.\n",
    "\n",
    "Use reduce() when you need to combine elements into a single result.\n",
    "\n",
    "Use filter() when you need to select elements based on a condition."
   ]
  },
  {
   "cell_type": "markdown",
   "metadata": {},
   "source": [
    "Q11: Using pen & Paper write the internal mechanism for sum operation using  reduce function on this given \n",
    "list:[47,11,42,13]"
   ]
  },
  {
   "cell_type": "markdown",
   "metadata": {},
   "source": [
    "Let’s break down the internal mechanism of the reduce() function for summing the elements of the list [47, 11, 42, 13] step-by-step, as if we were doing it with pen and paper.\n",
    "\n",
    "Step-by-Step Process\n",
    "\n",
    "1: Initial Setup:\n",
    "\n",
    "   List: [47, 11, 42, 13]\n",
    "\n",
    "   Function: lambda x, y: x + y\n",
    "\n",
    "   Initial value: None (so the first two elements are used)\n",
    "\n",
    "\n",
    "2: First Iteration:\n",
    "\n",
    "   Take the first two elements: 47 and 11\n",
    "\n",
    "   Apply the function: 47 + 11 = 58\n",
    "\n",
    "   Result after first iteration: 58\n",
    "\n",
    "3: Second Iteration:\n",
    "\n",
    "   Take the result from the first iteration: 58\n",
    "\n",
    "   Next element in the list: 42\n",
    "\n",
    "   Apply the function: 58 + 42 = 100\n",
    "\n",
    "   Result after second iteration: 100\n",
    "\n",
    "4: Third Iteration:\n",
    "\n",
    "   Take the result from the second iteration: 100\n",
    "\n",
    "   Next element in the list: 13\n",
    "\n",
    "   Apply the function: 100 + 13 = 113\n",
    "\n",
    "   Result after third iteration: 113\n",
    "\n",
    "Final Result\n",
    "The sum of the list [47, 11, 42, 13] using the reduce() function is 113.\n"
   ]
  },
  {
   "cell_type": "code",
   "execution_count": 45,
   "metadata": {},
   "outputs": [
    {
     "name": "stdout",
     "output_type": "stream",
     "text": [
      "113\n"
     ]
    }
   ],
   "source": [
    "from functools import reduce\n",
    "\n",
    "numbers = [47, 11, 42, 13]\n",
    "sum_of_numbers = reduce(lambda x, y: x + y, numbers)\n",
    "\n",
    "print(sum_of_numbers)  # Output: 113\n"
   ]
  }
 ],
 "metadata": {
  "kernelspec": {
   "display_name": "Python 3",
   "language": "python",
   "name": "python3"
  },
  "language_info": {
   "codemirror_mode": {
    "name": "ipython",
    "version": 3
   },
   "file_extension": ".py",
   "mimetype": "text/x-python",
   "name": "python",
   "nbconvert_exporter": "python",
   "pygments_lexer": "ipython3",
   "version": "3.12.2"
  }
 },
 "nbformat": 4,
 "nbformat_minor": 2
}
