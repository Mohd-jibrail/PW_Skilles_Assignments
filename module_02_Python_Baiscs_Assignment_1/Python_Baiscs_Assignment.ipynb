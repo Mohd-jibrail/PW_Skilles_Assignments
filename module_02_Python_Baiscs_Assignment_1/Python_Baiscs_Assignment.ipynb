{
 "cells": [
  {
   "cell_type": "markdown",
   "metadata": {},
   "source": [
    "Python Basic Assignments"
   ]
  },
  {
   "cell_type": "markdown",
   "metadata": {},
   "source": [
    "Q1: Explain the key featuRes of Python that Make it a popular choice for programming"
   ]
  },
  {
   "cell_type": "markdown",
   "metadata": {},
   "source": [
    "Python is a highly popular programming language, and several key features contribute to its widespread adoption\n",
    "\n",
    "\n",
    "1:- Readability and Simplicity: Python’s syntax is clear and easy to understand, which makes it an excellent choice for beginners. The language emphasizes readability, allowing developers to write clean and maintainable code"
   ]
  },
  {
   "cell_type": "code",
   "execution_count": 1,
   "metadata": {},
   "outputs": [
    {
     "name": "stdout",
     "output_type": "stream",
     "text": [
      "Hello Word\n"
     ]
    }
   ],
   "source": [
    "print('Hello Word')"
   ]
  },
  {
   "cell_type": "markdown",
   "metadata": {},
   "source": [
    "2:- Versatility: Python is a general-purpose language, meaning it can be used for a wide range of applications, from web development and data analysis to artificial intelligence and scientific computing"
   ]
  },
  {
   "cell_type": "markdown",
   "metadata": {},
   "source": [
    "3:- Extensive Libraries and Frameworks: Python boasts a rich ecosystem of libraries and frameworks, such as NumPy, Pandas, Django, Flask, and TensorFlow. These tools simplify and accelerate development processes."
   ]
  },
  {
   "cell_type": "code",
   "execution_count": 9,
   "metadata": {},
   "outputs": [],
   "source": [
    "import numpy as np\n",
    "import pandas as pd\n",
    "import flask as flask"
   ]
  },
  {
   "cell_type": "markdown",
   "metadata": {},
   "source": [
    "4:- Community Support: Python has a large and active community. This means plenty of resources, tutorials, and forums are available for learning and troubleshooting."
   ]
  },
  {
   "cell_type": "markdown",
   "metadata": {},
   "source": [
    "5:- Cross-Platform Compatibility: Python is compatible with various operating systems, including Windows, macOS, and Linux. This cross-platform nature makes it a flexible choice for developers."
   ]
  },
  {
   "cell_type": "markdown",
   "metadata": {},
   "source": [
    "6:- Integration Capabilities: Python can easily integrate with other languages and technologies, such as C, C++, Java, and .NET, making it a versatile tool in a developer’s toolkit."
   ]
  },
  {
   "cell_type": "markdown",
   "metadata": {},
   "source": [
    "7:- Interpreted Language: As an interpreted language, Python executes code line by line, which makes debugging easier and faster."
   ]
  },
  {
   "cell_type": "markdown",
   "metadata": {},
   "source": [
    "8:- Dynamic Typing: Python uses dynamic typing, meaning you don’t need to declare the type of a variable explicitly. This feature can speed up development and make the code more flexible."
   ]
  },
  {
   "cell_type": "code",
   "execution_count": 4,
   "metadata": {},
   "outputs": [
    {
     "name": "stdout",
     "output_type": "stream",
     "text": [
      "<class 'int'>\n",
      "<class 'str'>\n"
     ]
    }
   ],
   "source": [
    "roll_no=12345\n",
    "print(type(roll_no))\n",
    "roll_no ='12345'\n",
    "print(type(roll_no))"
   ]
  },
  {
   "cell_type": "markdown",
   "metadata": {},
   "source": [
    "9:- Strong Support for Object-Oriented and Functional Programming: Python supports multiple programming paradigms, including object-oriented, imperative, and functional programming, allowing developers to choose the best approach for their projects."
   ]
  },
  {
   "cell_type": "code",
   "execution_count": 8,
   "metadata": {},
   "outputs": [
    {
     "name": "stdout",
     "output_type": "stream",
     "text": [
      "Student is reading book\n",
      "Rohan is reading book\n"
     ]
    }
   ],
   "source": [
    "class Student:\n",
    "    def reading(self):\n",
    "        print('Student is reading book')\n",
    "    \n",
    "student = Student()\n",
    "student.reading()\n",
    "\n",
    "def reading(name):\n",
    "    print(name + ' is reading book')\n",
    "\n",
    "reading('Rohan')"
   ]
  },
  {
   "cell_type": "markdown",
   "metadata": {},
   "source": [
    "Q2: Describe the role of predefined keywords in Python and provide examples of how they are used in a \n",
    "programs"
   ]
  },
  {
   "cell_type": "markdown",
   "metadata": {},
   "source": [
    "Predefined keywords in Python are reserved words that have special meanings and purposes within the language. These keywords are part of the Python syntax and cannot be used as identifiers (e.g., variable names, function names). They help define the structure and flow of a Python program"
   ]
  },
  {
   "cell_type": "code",
   "execution_count": 10,
   "metadata": {},
   "outputs": [
    {
     "name": "stdout",
     "output_type": "stream",
     "text": [
      "Positive\n"
     ]
    }
   ],
   "source": [
    "## if, else, elif\n",
    "x = 10\n",
    "if x > 0:\n",
    "    print(\"Positive\")\n",
    "elif x == 0:\n",
    "    print(\"Zero\")\n",
    "else:\n",
    "    print(\"Negative\")\n"
   ]
  },
  {
   "cell_type": "code",
   "execution_count": 12,
   "metadata": {},
   "outputs": [
    {
     "name": "stdout",
     "output_type": "stream",
     "text": [
      "0\n",
      "1\n",
      "2\n",
      "3\n",
      "4\n",
      "0\n",
      "1\n",
      "2\n",
      "3\n",
      "4\n"
     ]
    }
   ],
   "source": [
    "#for, while loops \n",
    "# for loop\n",
    "for i in range(5):\n",
    "    print(i)\n",
    "\n",
    "# while loop\n",
    "count = 0\n",
    "while count < 5:\n",
    "    print(count)\n",
    "    count += 1\n"
   ]
  },
  {
   "cell_type": "code",
   "execution_count": 13,
   "metadata": {},
   "outputs": [
    {
     "name": "stdout",
     "output_type": "stream",
     "text": [
      "Hello, Alice!\n"
     ]
    }
   ],
   "source": [
    "#def\n",
    "def greet(name):\n",
    "    return f\"Hello, {name}!\"\n",
    "\n",
    "print(greet(\"Alice\"))\n"
   ]
  },
  {
   "cell_type": "code",
   "execution_count": 14,
   "metadata": {},
   "outputs": [
    {
     "name": "stdout",
     "output_type": "stream",
     "text": [
      "Woof!\n"
     ]
    }
   ],
   "source": [
    "#class\n",
    "class Dog:\n",
    "    def __init__(self, name):\n",
    "        self.name = name\n",
    "\n",
    "    def bark(self):\n",
    "        return \"Woof!\"\n",
    "\n",
    "my_dog = Dog(\"Buddy\")\n",
    "print(my_dog.bark())\n"
   ]
  },
  {
   "cell_type": "code",
   "execution_count": 15,
   "metadata": {},
   "outputs": [
    {
     "name": "stdout",
     "output_type": "stream",
     "text": [
      "4.0\n"
     ]
    }
   ],
   "source": [
    "#import \n",
    "import math\n",
    "\n",
    "print(math.sqrt(16))\n"
   ]
  },
  {
   "cell_type": "code",
   "execution_count": 16,
   "metadata": {},
   "outputs": [
    {
     "name": "stdout",
     "output_type": "stream",
     "text": [
      "Cannot divide by zero!\n",
      "Execution completed.\n"
     ]
    }
   ],
   "source": [
    "#try,except, finally\n",
    "try:\n",
    "    result = 10 / 0\n",
    "except ZeroDivisionError:\n",
    "    print(\"Cannot divide by zero!\")\n",
    "finally:\n",
    "    print(\"Execution completed.\")\n"
   ]
  },
  {
   "cell_type": "code",
   "execution_count": 17,
   "metadata": {},
   "outputs": [
    {
     "name": "stdout",
     "output_type": "stream",
     "text": [
      "7\n"
     ]
    }
   ],
   "source": [
    "#return \n",
    "def add(a, b):\n",
    "    return a + b\n",
    "\n",
    "print(add(3, 4))\n"
   ]
  },
  {
   "cell_type": "code",
   "execution_count": 19,
   "metadata": {},
   "outputs": [
    {
     "ename": "FileNotFoundError",
     "evalue": "[Errno 2] No such file or directory: ''",
     "output_type": "error",
     "traceback": [
      "\u001b[1;31m---------------------------------------------------------------------------\u001b[0m",
      "\u001b[1;31mFileNotFoundError\u001b[0m                         Traceback (most recent call last)",
      "Cell \u001b[1;32mIn[19], line 2\u001b[0m\n\u001b[0;32m      1\u001b[0m \u001b[38;5;66;03m#with\u001b[39;00m\n\u001b[1;32m----> 2\u001b[0m \u001b[38;5;28;01mwith\u001b[39;00m \u001b[38;5;28;43mopen\u001b[39;49m\u001b[43m(\u001b[49m\u001b[38;5;124;43m\"\u001b[39;49m\u001b[38;5;124;43m\"\u001b[39;49m\u001b[43m,\u001b[49m\u001b[43m \u001b[49m\u001b[38;5;124;43m\"\u001b[39;49m\u001b[38;5;124;43mr\u001b[39;49m\u001b[38;5;124;43m\"\u001b[39;49m\u001b[43m)\u001b[49m \u001b[38;5;28;01mas\u001b[39;00m file:\n\u001b[0;32m      3\u001b[0m     content \u001b[38;5;241m=\u001b[39m file\u001b[38;5;241m.\u001b[39mread()\n\u001b[0;32m      4\u001b[0m     \u001b[38;5;28mprint\u001b[39m(content)\n",
      "File \u001b[1;32m~\\AppData\\Roaming\\Python\\Python312\\site-packages\\IPython\\core\\interactiveshell.py:324\u001b[0m, in \u001b[0;36m_modified_open\u001b[1;34m(file, *args, **kwargs)\u001b[0m\n\u001b[0;32m    317\u001b[0m \u001b[38;5;28;01mif\u001b[39;00m file \u001b[38;5;129;01min\u001b[39;00m {\u001b[38;5;241m0\u001b[39m, \u001b[38;5;241m1\u001b[39m, \u001b[38;5;241m2\u001b[39m}:\n\u001b[0;32m    318\u001b[0m     \u001b[38;5;28;01mraise\u001b[39;00m \u001b[38;5;167;01mValueError\u001b[39;00m(\n\u001b[0;32m    319\u001b[0m         \u001b[38;5;124mf\u001b[39m\u001b[38;5;124m\"\u001b[39m\u001b[38;5;124mIPython won\u001b[39m\u001b[38;5;124m'\u001b[39m\u001b[38;5;124mt let you open fd=\u001b[39m\u001b[38;5;132;01m{\u001b[39;00mfile\u001b[38;5;132;01m}\u001b[39;00m\u001b[38;5;124m by default \u001b[39m\u001b[38;5;124m\"\u001b[39m\n\u001b[0;32m    320\u001b[0m         \u001b[38;5;124m\"\u001b[39m\u001b[38;5;124mas it is likely to crash IPython. If you know what you are doing, \u001b[39m\u001b[38;5;124m\"\u001b[39m\n\u001b[0;32m    321\u001b[0m         \u001b[38;5;124m\"\u001b[39m\u001b[38;5;124myou can use builtins\u001b[39m\u001b[38;5;124m'\u001b[39m\u001b[38;5;124m open.\u001b[39m\u001b[38;5;124m\"\u001b[39m\n\u001b[0;32m    322\u001b[0m     )\n\u001b[1;32m--> 324\u001b[0m \u001b[38;5;28;01mreturn\u001b[39;00m \u001b[43mio_open\u001b[49m\u001b[43m(\u001b[49m\u001b[43mfile\u001b[49m\u001b[43m,\u001b[49m\u001b[43m \u001b[49m\u001b[38;5;241;43m*\u001b[39;49m\u001b[43margs\u001b[49m\u001b[43m,\u001b[49m\u001b[43m \u001b[49m\u001b[38;5;241;43m*\u001b[39;49m\u001b[38;5;241;43m*\u001b[39;49m\u001b[43mkwargs\u001b[49m\u001b[43m)\u001b[49m\n",
      "\u001b[1;31mFileNotFoundError\u001b[0m: [Errno 2] No such file or directory: ''"
     ]
    }
   ],
   "source": [
    "#with\n",
    "with open(\"file\", \"r\") as file:\n",
    "    content = file.read()\n",
    "    print(content)\n"
   ]
  },
  {
   "cell_type": "code",
   "execution_count": 20,
   "metadata": {},
   "outputs": [
    {
     "name": "stdout",
     "output_type": "stream",
     "text": [
      "25\n"
     ]
    }
   ],
   "source": [
    "#lamda\n",
    "square = lambda x: x * x\n",
    "print(square(5))\n"
   ]
  },
  {
   "cell_type": "markdown",
   "metadata": {},
   "source": [
    "Q3: Compare and contrast mutable and inmutable objects in Python with examples"
   ]
  },
  {
   "cell_type": "markdown",
   "metadata": {},
   "source": [
    "In Python, objects can be classified as either mutable or immutable. Understanding the difference between these two types is crucial for effective programming. Here’s a comparison and contrast of mutable and immutable objects, along with examples:\n",
    "\n",
    "1: Mutable objects are those that can be changed after they are created. This means you can modify their content without creating a new object"
   ]
  },
  {
   "cell_type": "code",
   "execution_count": 21,
   "metadata": {},
   "outputs": [
    {
     "name": "stdout",
     "output_type": "stream",
     "text": [
      "[10, 2, 3]\n"
     ]
    }
   ],
   "source": [
    "my_list = [1, 2, 3]\n",
    "my_list[0] = 10  # Modifying the first element\n",
    "print(my_list)  # Output: [10, 2, 3]\n"
   ]
  },
  {
   "cell_type": "code",
   "execution_count": 22,
   "metadata": {},
   "outputs": [
    {
     "name": "stdout",
     "output_type": "stream",
     "text": [
      "{'a': 10, 'b': 2}\n"
     ]
    }
   ],
   "source": [
    "my_dict = {'a': 1, 'b': 2}\n",
    "my_dict['a'] = 10  # Modifying the value associated with key 'a'\n",
    "print(my_dict)  # Output: {'a': 10, 'b': 2}\n"
   ]
  },
  {
   "cell_type": "code",
   "execution_count": 23,
   "metadata": {},
   "outputs": [
    {
     "name": "stdout",
     "output_type": "stream",
     "text": [
      "{1, 2, 3, 4}\n"
     ]
    }
   ],
   "source": [
    "my_set = {1, 2, 3}\n",
    "my_set.add(4)  # Adding an element to the set\n",
    "print(my_set)  # Output: {1, 2, 3, 4}\n"
   ]
  },
  {
   "cell_type": "markdown",
   "metadata": {},
   "source": [
    "2: Immutable objects, on the other hand, cannot be changed after they are created. Any modification to an immutable object results in the creation of a new object."
   ]
  },
  {
   "cell_type": "code",
   "execution_count": 24,
   "metadata": {},
   "outputs": [
    {
     "name": "stdout",
     "output_type": "stream",
     "text": [
      "hello\n",
      "jello\n"
     ]
    }
   ],
   "source": [
    "my_string = \"hello\"\n",
    "new_string = my_string.replace('h', 'j')  # Creating a new string\n",
    "print(my_string)  # Output: hello\n",
    "print(new_string)  # Output: jello\n"
   ]
  },
  {
   "cell_type": "code",
   "execution_count": 25,
   "metadata": {},
   "outputs": [
    {
     "name": "stdout",
     "output_type": "stream",
     "text": [
      "(1, 2, 3)\n",
      "(10, 2, 3)\n"
     ]
    }
   ],
   "source": [
    "my_tuple = (1, 2, 3)\n",
    "# my_tuple[0] = 10  # This would raise an error\n",
    "new_tuple = (10, 2, 3)  # Creating a new tuple\n",
    "print(my_tuple)  # Output: (1, 2, 3)\n",
    "print(new_tuple)  # Output: (10, 2, 3)\n"
   ]
  },
  {
   "cell_type": "code",
   "execution_count": 26,
   "metadata": {},
   "outputs": [
    {
     "name": "stdout",
     "output_type": "stream",
     "text": [
      "frozenset({1, 2, 3})\n",
      "frozenset({1, 2, 3, 4})\n"
     ]
    }
   ],
   "source": [
    "my_frozenset = frozenset([1, 2, 3])\n",
    "# my_frozenset.add(4)  # This would raise an error\n",
    "new_frozenset = my_frozenset.union([4])  # Creating a new frozenset\n",
    "print(my_frozenset)  # Output: frozenset({1, 2, 3})\n",
    "print(new_frozenset)  # Output: frozenset({1, 2, 3, 4})\n"
   ]
  },
  {
   "cell_type": "markdown",
   "metadata": {},
   "source": [
    "Key Differences \n",
    "\n",
    "1: Modification: Mutable objects can be changed in place, while immutable objects cannot be altered once created.\n",
    "\n",
    "2: Performance: Immutable objects can be more memory-efficient and faster to access because their fixed state allows for certain optimizations.\n",
    "\n",
    "3: Use Cases: Mutable objects are useful when you need to modify data frequently, while immutable objects are ideal for data that should remain constant throughout the program"
   ]
  },
  {
   "cell_type": "markdown",
   "metadata": {},
   "source": [
    " Q4: Discuss the different types of operators in Python and provide examples of how they are used"
   ]
  },
  {
   "cell_type": "markdown",
   "metadata": {},
   "source": [
    "1: Arithmetic Operators"
   ]
  },
  {
   "cell_type": "code",
   "execution_count": 34,
   "metadata": {},
   "outputs": [
    {
     "name": "stdout",
     "output_type": "stream",
     "text": [
      "8\n",
      "2\n",
      "15\n",
      "1.6666666666666667\n",
      "2\n",
      "125\n",
      "1\n"
     ]
    }
   ],
   "source": [
    "a = 5\n",
    "b = 3\n",
    "print(a + b)  # Output: 8\n",
    "print(a - b)  # Output: 2\n",
    "print(a * b)  # Output: 15\n",
    "print(a / b)  # Output: 1.6666666666666667\n",
    "print(a % b)  # Output: 2\n",
    "print(a ** b)  # Output: 125\n",
    "print(a // b)  # Output: 1\n"
   ]
  },
  {
   "cell_type": "markdown",
   "metadata": {},
   "source": [
    "2: Comparison Operator"
   ]
  },
  {
   "cell_type": "code",
   "execution_count": 28,
   "metadata": {},
   "outputs": [
    {
     "name": "stdout",
     "output_type": "stream",
     "text": [
      "False\n",
      "True\n",
      "True\n",
      "False\n",
      "True\n",
      "False\n"
     ]
    }
   ],
   "source": [
    "#Comparison Operators\n",
    "print(a == b)  # Output: False\n",
    "print(a != b)  # Output: True\n",
    "print(a > b)  # Output: True\n",
    "print(a < b)  # Output: False\n",
    "print(a >= b)  # Output: True\n",
    "print(a <= b)  # Output: False\n"
   ]
  },
  {
   "cell_type": "markdown",
   "metadata": {},
   "source": [
    "3: Logical Operators"
   ]
  },
  {
   "cell_type": "code",
   "execution_count": 29,
   "metadata": {},
   "outputs": [
    {
     "name": "stdout",
     "output_type": "stream",
     "text": [
      "False\n",
      "True\n",
      "False\n"
     ]
    }
   ],
   "source": [
    "#Logical Operators\n",
    "x = True\n",
    "y = False\n",
    "print(x and y)  # Output: False\n",
    "print(x or y)  # Output: True\n",
    "print(not x)  # Output: False\n"
   ]
  },
  {
   "cell_type": "markdown",
   "metadata": {},
   "source": [
    "4: Assignment Operators"
   ]
  },
  {
   "cell_type": "code",
   "execution_count": 30,
   "metadata": {},
   "outputs": [
    {
     "name": "stdout",
     "output_type": "stream",
     "text": [
      "15\n",
      "12\n",
      "24\n",
      "6.0\n"
     ]
    }
   ],
   "source": [
    "#Assignment Operators\n",
    "c = 10\n",
    "c += 5  # Equivalent to c = c + 5\n",
    "print(c)  # Output: 15\n",
    "c -= 3  # Equivalent to c = c - 3\n",
    "print(c)  # Output: 12\n",
    "c *= 2  # Equivalent to c = c * 2\n",
    "print(c)  # Output: 24\n",
    "c /= 4  # Equivalent to c = c / 4\n",
    "print(c)  # Output: 6.0\n"
   ]
  },
  {
   "cell_type": "markdown",
   "metadata": {},
   "source": [
    "5: Bitwise Operators"
   ]
  },
  {
   "cell_type": "code",
   "execution_count": 31,
   "metadata": {},
   "outputs": [
    {
     "name": "stdout",
     "output_type": "stream",
     "text": [
      "1\n",
      "7\n",
      "6\n",
      "-6\n",
      "10\n",
      "2\n"
     ]
    }
   ],
   "source": [
    "#Bitwise Operators\n",
    "d = 5  # 0101 in binary\n",
    "e = 3  # 0011 in binary\n",
    "print(d & e)  # Output: 1 (0001 in binary)\n",
    "print(d | e)  # Output: 7 (0111 in binary)\n",
    "print(d ^ e)  # Output: 6 (0110 in binary)\n",
    "print(~d)  # Output: -6 (inverts all bits)\n",
    "print(d << 1)  # Output: 10 (1010 in binary)\n",
    "print(d >> 1)  # Output: 2 (0010 in binary)\n"
   ]
  },
  {
   "cell_type": "markdown",
   "metadata": {},
   "source": [
    "6: Membership Operators"
   ]
  },
  {
   "cell_type": "code",
   "execution_count": 32,
   "metadata": {},
   "outputs": [
    {
     "name": "stdout",
     "output_type": "stream",
     "text": [
      "True\n",
      "True\n"
     ]
    }
   ],
   "source": [
    "#Membership Operators\n",
    "my_list = [1, 2, 3, 4, 5]\n",
    "print(3 in my_list)  # Output: True\n",
    "print(6 not in my_list)  # Output: True\n"
   ]
  },
  {
   "cell_type": "markdown",
   "metadata": {},
   "source": [
    "7: Identity Operators"
   ]
  },
  {
   "cell_type": "code",
   "execution_count": 33,
   "metadata": {},
   "outputs": [
    {
     "name": "stdout",
     "output_type": "stream",
     "text": [
      "True\n",
      "True\n"
     ]
    }
   ],
   "source": [
    "#Identity Operators\n",
    "f = [1, 2, 3]\n",
    "g = f\n",
    "print(f is g)  # Output: True\n",
    "h = [1, 2, 3]\n",
    "print(f is not h)  # Output: True\n"
   ]
  },
  {
   "cell_type": "markdown",
   "metadata": {},
   "source": [
    "Q5: Explain the concept of type casting in Python with examples?"
   ]
  },
  {
   "cell_type": "markdown",
   "metadata": {},
   "source": [
    "Type casting in Python refers to converting one data type into another. This is useful when you need to perform operations that require a specific data type. Python provides several built-in functions for type casting.\n",
    "\n",
    "1: Implicit Type Casting\n",
    "Python automatically converts one data type to another without explicit instruction from the user. This usually happens when performing operations between different data types."
   ]
  },
  {
   "cell_type": "code",
   "execution_count": 35,
   "metadata": {},
   "outputs": [
    {
     "name": "stdout",
     "output_type": "stream",
     "text": [
      "7.5\n",
      "<class 'float'>\n"
     ]
    }
   ],
   "source": [
    "a = 5       # Integer\n",
    "b = 2.5     # Float\n",
    "c = a + b   # a is implicitly converted to float\n",
    "print(c)    # Output: 7.5\n",
    "print(type(c))  # Output: <class 'float'>\n"
   ]
  },
  {
   "cell_type": "markdown",
   "metadata": {},
   "source": [
    "2: Explicit Type Casting\n",
    "In explicit type casting, the user manually converts one data type into another using Python’s built-in functions.\n",
    "\n",
    "Common Functions for Explicit Type Casting:\n",
    "int(): Converts a value to an integer.\n",
    "\n",
    "float(): Converts a value to a float.\n",
    "\n",
    "str(): Converts a value to a string.\n",
    "\n",
    "list(): Converts a value to a list.\n",
    "\n",
    "tuple(): Converts a value to a tuple.\n",
    "\n",
    "set(): Converts a value to a set."
   ]
  },
  {
   "cell_type": "code",
   "execution_count": 37,
   "metadata": {},
   "outputs": [
    {
     "name": "stdout",
     "output_type": "stream",
     "text": [
      "123\n",
      "<class 'int'>\n"
     ]
    }
   ],
   "source": [
    "#Converting string to integer\n",
    "s = \"123\"\n",
    "num = int(s)\n",
    "print(num)  # Output: 123\n",
    "print(type(num))  # Output: <class 'int'>\n"
   ]
  },
  {
   "cell_type": "code",
   "execution_count": 38,
   "metadata": {},
   "outputs": [
    {
     "name": "stdout",
     "output_type": "stream",
     "text": [
      "10.0\n",
      "<class 'float'>\n"
     ]
    }
   ],
   "source": [
    "#Converting integer to float \n",
    "i = 10\n",
    "f = float(i)\n",
    "print(f)  # Output: 10.0\n",
    "print(type(f))  # Output: <class 'float'>\n"
   ]
  },
  {
   "cell_type": "code",
   "execution_count": 39,
   "metadata": {},
   "outputs": [
    {
     "name": "stdout",
     "output_type": "stream",
     "text": [
      "3.14\n",
      "<class 'str'>\n"
     ]
    }
   ],
   "source": [
    "#Converting float to string\n",
    "f = 3.14\n",
    "s = str(f)\n",
    "print(s)  # Output: '3.14'\n",
    "print(type(s))  # Output: <class 'str'>\n"
   ]
  },
  {
   "cell_type": "code",
   "execution_count": 40,
   "metadata": {},
   "outputs": [
    {
     "name": "stdout",
     "output_type": "stream",
     "text": [
      "(1, 2, 3)\n",
      "<class 'tuple'>\n"
     ]
    }
   ],
   "source": [
    "#Converting list to tuple\n",
    "lst = [1, 2, 3]\n",
    "tup = tuple(lst)\n",
    "print(tup)  # Output: (1, 2, 3)\n",
    "print(type(tup))  # Output: <class 'tuple'>\n"
   ]
  },
  {
   "cell_type": "code",
   "execution_count": 42,
   "metadata": {},
   "outputs": [
    {
     "name": "stdout",
     "output_type": "stream",
     "text": [
      "[4, 5, 6]\n",
      "<class 'list'>\n"
     ]
    }
   ],
   "source": [
    "#Converting tuple to list \n",
    "tup = (4, 5, 6)\n",
    "lst = list(tup)\n",
    "print(lst)  # Output: [4, 5, 6]\n",
    "print(type(lst))  # Output: <class 'list'>\n"
   ]
  },
  {
   "cell_type": "code",
   "execution_count": 43,
   "metadata": {},
   "outputs": [
    {
     "name": "stdout",
     "output_type": "stream",
     "text": [
      "{1, 2, 3, 4}\n",
      "<class 'set'>\n"
     ]
    }
   ],
   "source": [
    "#Converting list to set \n",
    "lst = [1, 2, 2, 3, 4]\n",
    "st = set(lst)\n",
    "print(st)  # Output: {1, 2, 3, 4}\n",
    "print(type(st))  # Output: <class 'set'>\n"
   ]
  },
  {
   "cell_type": "markdown",
   "metadata": {},
   "source": [
    "Invalid Conversion: Converting a string that does not represent a number to an integer or float will raise a value error"
   ]
  },
  {
   "cell_type": "code",
   "execution_count": 46,
   "metadata": {},
   "outputs": [
    {
     "ename": "ValueError",
     "evalue": "invalid literal for int() with base 10: 'abc'",
     "output_type": "error",
     "traceback": [
      "\u001b[1;31m---------------------------------------------------------------------------\u001b[0m",
      "\u001b[1;31mValueError\u001b[0m                                Traceback (most recent call last)",
      "Cell \u001b[1;32mIn[46], line 2\u001b[0m\n\u001b[0;32m      1\u001b[0m s \u001b[38;5;241m=\u001b[39m \u001b[38;5;124m'\u001b[39m\u001b[38;5;124mabc\u001b[39m\u001b[38;5;124m'\u001b[39m\n\u001b[1;32m----> 2\u001b[0m \u001b[38;5;28mprint\u001b[39m(\u001b[38;5;28;43mint\u001b[39;49m\u001b[43m(\u001b[49m\u001b[43ms\u001b[49m\u001b[43m)\u001b[49m)\n",
      "\u001b[1;31mValueError\u001b[0m: invalid literal for int() with base 10: 'abc'"
     ]
    }
   ],
   "source": [
    "s = 'abc'\n",
    "print(int(s))"
   ]
  },
  {
   "cell_type": "code",
   "execution_count": 47,
   "metadata": {},
   "outputs": [
    {
     "ename": "ValueError",
     "evalue": "could not convert string to float: 'abc'",
     "output_type": "error",
     "traceback": [
      "\u001b[1;31m---------------------------------------------------------------------------\u001b[0m",
      "\u001b[1;31mValueError\u001b[0m                                Traceback (most recent call last)",
      "Cell \u001b[1;32mIn[47], line 1\u001b[0m\n\u001b[1;32m----> 1\u001b[0m \u001b[38;5;28mprint\u001b[39m(\u001b[38;5;28;43mfloat\u001b[39;49m\u001b[43m(\u001b[49m\u001b[43ms\u001b[49m\u001b[43m)\u001b[49m)\n",
      "\u001b[1;31mValueError\u001b[0m: could not convert string to float: 'abc'"
     ]
    }
   ],
   "source": [
    "print(float(s))"
   ]
  },
  {
   "cell_type": "markdown",
   "metadata": {},
   "source": [
    "Q6: How do conditional statements work in Python? Illustrate with examples?"
   ]
  },
  {
   "cell_type": "markdown",
   "metadata": {},
   "source": [
    "Conditional statements in Python allow you to execute certain blocks of code based on specific conditions. The primary conditional statements in Python are if, elif, and else."
   ]
  },
  {
   "cell_type": "markdown",
   "metadata": {},
   "source": [
    "1: If Statement"
   ]
  },
  {
   "cell_type": "code",
   "execution_count": 48,
   "metadata": {},
   "outputs": [
    {
     "name": "stdout",
     "output_type": "stream",
     "text": [
      "x is greater than 5\n"
     ]
    }
   ],
   "source": [
    "x = 10\n",
    "if x > 5:\n",
    "    print(\"x is greater than 5\")  # Output: x is greater than 5\n"
   ]
  },
  {
   "cell_type": "markdown",
   "metadata": {},
   "source": [
    "2: elif statement"
   ]
  },
  {
   "cell_type": "code",
   "execution_count": 50,
   "metadata": {},
   "outputs": [
    {
     "name": "stdout",
     "output_type": "stream",
     "text": [
      "x is greater than 5 but less than or equal to 15\n"
     ]
    }
   ],
   "source": [
    "x = 10\n",
    "if x > 15:\n",
    "    print(\"x is greater than 15\")\n",
    "elif x > 5:\n",
    "    print(\"x is greater than 5 but less than or equal to 15\")  \n",
    "else:\n",
    "    print(\"x is 5 or less\")\n"
   ]
  },
  {
   "cell_type": "markdown",
   "metadata": {},
   "source": [
    "3: else statement"
   ]
  },
  {
   "cell_type": "code",
   "execution_count": 51,
   "metadata": {},
   "outputs": [
    {
     "name": "stdout",
     "output_type": "stream",
     "text": [
      "x is 5 or less\n"
     ]
    }
   ],
   "source": [
    "x = 3\n",
    "if x > 5:\n",
    "    print(\"x is greater than 5\")\n",
    "else:\n",
    "    print(\"x is 5 or less\")  # Output: x is 5 or less\n"
   ]
  },
  {
   "cell_type": "markdown",
   "metadata": {},
   "source": [
    "4: Combining Conditions\n",
    "\n",
    "You can combine multiple conditions using logical operators like and, or, and not"
   ]
  },
  {
   "cell_type": "code",
   "execution_count": 52,
   "metadata": {},
   "outputs": [
    {
     "name": "stdout",
     "output_type": "stream",
     "text": [
      "x is between 5 and 10\n"
     ]
    }
   ],
   "source": [
    "x = 7\n",
    "if x > 5 and x < 10:\n",
    "    print(\"x is between 5 and 10\")  # Output: x is between 5 and 10\n"
   ]
  },
  {
   "cell_type": "markdown",
   "metadata": {},
   "source": [
    "5: Nested Conditional Statements\n",
    "\n",
    "You can also nest conditional statements within each other."
   ]
  },
  {
   "cell_type": "code",
   "execution_count": 53,
   "metadata": {},
   "outputs": [
    {
     "name": "stdout",
     "output_type": "stream",
     "text": [
      "x is between 5 and 10\n"
     ]
    }
   ],
   "source": [
    "x = 8\n",
    "if x > 5:\n",
    "    if x < 10:\n",
    "        print(\"x is between 5 and 10\")  # Output: x is between 5 and 10\n",
    "    else:\n",
    "        print(\"x is 10 or more\")\n",
    "else:\n",
    "    print(\"x is 5 or less\")\n"
   ]
  },
  {
   "cell_type": "markdown",
   "metadata": {},
   "source": [
    "6: Ternary Conditional Operators"
   ]
  },
  {
   "cell_type": "code",
   "execution_count": 54,
   "metadata": {},
   "outputs": [
    {
     "name": "stdout",
     "output_type": "stream",
     "text": [
      "Greater than 5\n"
     ]
    }
   ],
   "source": [
    "x = 10\n",
    "result = \"Greater than 5\" if x > 5 else \"5 or less\"\n",
    "print(result)  # Output: Greater than 5\n"
   ]
  },
  {
   "cell_type": "markdown",
   "metadata": {},
   "source": [
    "Q7: Descsibe the different types of loops in Python and their use cases with examples."
   ]
  },
  {
   "cell_type": "markdown",
   "metadata": {},
   "source": [
    "Python provides several types of loops to help you execute a block of code repeatedly. The main types of loops in Python are for loops and while loops. Let’s explore each type and their use cases with examples.\n",
    "\n",
    "1: for Loop - The for loop is used to iterate over a sequence (such as a list, tuple, dictionary, set, or string) and execute a block of code for each item in the sequence.\n",
    "\n",
    "Use Cases:\n",
    "\n",
    "1- Iterating over elements in a list or tuple.\n",
    "\n",
    "2- Iterating over characters in a string.\n",
    "\n",
    "3- Iterating over keys and values in a dictionary."
   ]
  },
  {
   "cell_type": "code",
   "execution_count": 57,
   "metadata": {},
   "outputs": [
    {
     "name": "stdout",
     "output_type": "stream",
     "text": [
      "------List-----------------\n",
      "apple\n",
      "banana\n",
      "cherry\n",
      "------String------------\n",
      "h\n",
      "e\n",
      "l\n",
      "l\n",
      "o\n",
      "---------Dictionary---------------\n",
      "name: John\n",
      "age: 20\n",
      "grade: A\n"
     ]
    }
   ],
   "source": [
    "#List\n",
    "print('------List-----------------')\n",
    "fruits = [\"apple\", \"banana\", \"cherry\"]\n",
    "for fruit in fruits:\n",
    "    print(fruit)\n",
    "#String \n",
    "print('------String------------')\n",
    "for char in \"hello\":\n",
    "    print(char)\n",
    "#Dictionary\n",
    "print('---------Dictionary---------------')\n",
    "student = {\"name\": \"John\", \"age\": 20, \"grade\": \"A\"}\n",
    "for key, value in student.items():\n",
    "    print(f\"{key}: {value}\")\n"
   ]
  },
  {
   "cell_type": "markdown",
   "metadata": {},
   "source": [
    "2: while Loop - The while loop continues to execute a block of code as long as a specified condition is true.\n",
    "\n",
    "Use Cases:\n",
    "\n",
    "1: Repeating an action until a certain condition is met.\n",
    "\n",
    "2: Implementing infinite loops (with a break condition inside)."
   ]
  },
  {
   "cell_type": "code",
   "execution_count": 59,
   "metadata": {},
   "outputs": [
    {
     "name": "stdout",
     "output_type": "stream",
     "text": [
      "0\n",
      "1\n",
      "2\n",
      "3\n",
      "4\n",
      "0\n",
      "1\n",
      "2\n",
      "3\n",
      "4\n"
     ]
    }
   ],
   "source": [
    "count = 0\n",
    "while count < 5:\n",
    "    print(count)\n",
    "    count += 1\n",
    "count = 0\n",
    "\n",
    "while True:\n",
    "    print(count)\n",
    "    count += 1\n",
    "    if count == 5:\n",
    "        break\n"
   ]
  },
  {
   "cell_type": "markdown",
   "metadata": {},
   "source": [
    "3: Nested Loops - You can nest loops inside each other to perform more complex iterations.\n",
    "\n",
    "Use Cases:\n",
    "\n",
    "1: Iterating over multi-dimensional data structures (like lists of lists).\n",
    "2: Performing operations that require multiple levels of iteration."
   ]
  },
  {
   "cell_type": "code",
   "execution_count": 60,
   "metadata": {},
   "outputs": [
    {
     "name": "stdout",
     "output_type": "stream",
     "text": [
      "1 2 3 \n",
      "4 5 6 \n",
      "7 8 9 \n"
     ]
    }
   ],
   "source": [
    "matrix = [\n",
    "    [1, 2, 3],\n",
    "    [4, 5, 6],\n",
    "    [7, 8, 9]\n",
    "]\n",
    "for row in matrix:\n",
    "    for element in row:\n",
    "        print(element, end=\" \")\n",
    "    print()\n",
    "# Output:\n",
    "# 1 2 3 \n",
    "# 4 5 6 \n",
    "# 7 8 9 \n"
   ]
  },
  {
   "cell_type": "markdown",
   "metadata": {},
   "source": [
    "3: Loop Control Statements\n",
    "\n",
    "Python provides several control statements to alter the flow of loops:\n",
    "\n",
    "1: break: Exits the loop prematurely.\n",
    "\n",
    "2: continue: Skips the rest of the code inside the loop for the current iteration and moves to the next iteration.\n",
    "\n",
    "3:pass: Does nothing and can be used as a placeholder."
   ]
  },
  {
   "cell_type": "code",
   "execution_count": 61,
   "metadata": {},
   "outputs": [
    {
     "name": "stdout",
     "output_type": "stream",
     "text": [
      "0\n",
      "1\n",
      "2\n",
      "3\n",
      "4\n"
     ]
    }
   ],
   "source": [
    "for i in range(10):\n",
    "    if i == 5:\n",
    "        break\n",
    "    print(i)\n",
    "# Output:\n",
    "# 0\n",
    "# 1\n",
    "# 2\n",
    "# 3\n",
    "# 4\n"
   ]
  },
  {
   "cell_type": "code",
   "execution_count": 62,
   "metadata": {},
   "outputs": [
    {
     "name": "stdout",
     "output_type": "stream",
     "text": [
      "1\n",
      "3\n",
      "5\n",
      "7\n",
      "9\n"
     ]
    }
   ],
   "source": [
    "for i in range(10):\n",
    "    if i % 2 == 0:\n",
    "        continue\n",
    "    print(i)\n",
    "# Output:\n",
    "# 1\n",
    "# 3\n",
    "# 5\n",
    "# 7\n",
    "# 9"
   ]
  },
  {
   "cell_type": "code",
   "execution_count": 63,
   "metadata": {},
   "outputs": [
    {
     "name": "stdout",
     "output_type": "stream",
     "text": [
      "0\n",
      "1\n",
      "2\n",
      "3\n",
      "4\n"
     ]
    }
   ],
   "source": [
    "for i in range(5):\n",
    "    if i == 3:\n",
    "        pass  # Placeholder for future code\n",
    "    print(i)\n",
    "# Output:\n",
    "# 0\n",
    "# 1\n",
    "# 2\n",
    "# 3\n",
    "# 4\n"
   ]
  },
  {
   "cell_type": "code",
   "execution_count": null,
   "metadata": {},
   "outputs": [],
   "source": []
  }
 ],
 "metadata": {
  "kernelspec": {
   "display_name": "Python 3",
   "language": "python",
   "name": "python3"
  },
  "language_info": {
   "codemirror_mode": {
    "name": "ipython",
    "version": 3
   },
   "file_extension": ".py",
   "mimetype": "text/x-python",
   "name": "python",
   "nbconvert_exporter": "python",
   "pygments_lexer": "ipython3",
   "version": "3.12.2"
  }
 },
 "nbformat": 4,
 "nbformat_minor": 2
}
