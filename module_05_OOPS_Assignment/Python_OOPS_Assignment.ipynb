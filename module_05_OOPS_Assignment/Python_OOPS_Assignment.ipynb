{
 "cells": [
  {
   "cell_type": "markdown",
   "metadata": {},
   "source": [
    "Q1: What are the five key concepts of Object-Oriented Programming (OOP)?\n",
    "    The five key concepts of Object-Oriented Programming (OOP) are:\n",
    "\n",
    "The five key concepts of Object-Oriented Programming (OOP) are:\n",
    "\n",
    "1: Abstraction: Hiding complex implementation details and only showing the necessary information to the user.\n",
    "\n",
    "2: Encapsulation: Bundling data and methods that operate on that data within a single unit (class).\n",
    "\n",
    "3: Inheritance: Creating new classes (child classes) from existing ones (parent classes), inheriting their properties and behaviors.\n",
    "\n",
    "4: Polymorphism: The ability of objects to take on multiple forms.\n",
    "\n",
    "5: Objects and Classes: Objects are instances of classes, which are blueprints for creating objects.\n",
    "\n",
    "\n",
    "\n",
    "\n",
    "\n"
   ]
  },
  {
   "cell_type": "markdown",
   "metadata": {},
   "source": [
    "Q2: Write a Python class for a `Car` with attributes for `make`, `model`, and `year`. Include a method to display \n",
    "the car's information."
   ]
  },
  {
   "cell_type": "code",
   "execution_count": 2,
   "metadata": {},
   "outputs": [
    {
     "name": "stdout",
     "output_type": "stream",
     "text": [
      "2022 Toyota Camry\n"
     ]
    }
   ],
   "source": [
    "class Car: \n",
    "    def __init__(self, make, model, year):\n",
    "        self.make = make\n",
    "        self.model = model\n",
    "        self.year = year\n",
    "        \n",
    "    def display_info(self):\n",
    "        print(f\"{self.year} {self.make} {self.model}\")\n",
    "\n",
    "my_car = Car(\"Toyota\", \"Camry\", 2022)\n",
    "my_car.display_info()"
   ]
  },
  {
   "cell_type": "markdown",
   "metadata": {},
   "source": [
    "Q3: Explain the difference between instance methods and class methods. Provide an example of each."
   ]
  },
  {
   "cell_type": "code",
   "execution_count": 12,
   "metadata": {},
   "outputs": [
    {
     "data": {
      "text/plain": [
       "10"
      ]
     },
     "execution_count": 12,
     "metadata": {},
     "output_type": "execute_result"
    }
   ],
   "source": [
    "#Instance methods operate on an instance of a class, while class methods operate on the class itself.\n",
    "class MyClass:\n",
    "  def __init__(self, value):\n",
    "    self.value = value\n",
    "  def instance_method(self):\n",
    "    return self.value * 2\n",
    "\n",
    "instance = MyClass(5)\n",
    "instance.instance_method()\n"
   ]
  },
  {
   "cell_type": "code",
   "execution_count": 13,
   "metadata": {},
   "outputs": [
    {
     "data": {
      "text/plain": [
       "20"
      ]
     },
     "execution_count": 13,
     "metadata": {},
     "output_type": "execute_result"
    }
   ],
   "source": [
    "class MyClass:\n",
    "  class_variable = 10\n",
    "  @classmethod\n",
    "  def class_method(cls):\n",
    "    return cls.class_variable * 2\n",
    "\n",
    "MyClass.class_method()"
   ]
  },
  {
   "cell_type": "markdown",
   "metadata": {},
   "source": [
    "Q4:  How does Python implement method overloading? Give an example.\n",
    "\n",
    "Method overloading in the traditional sense is not supported in Python, you can simulate it using techniques like default arguments or variable-length arguments within a class\n"
   ]
  },
  {
   "cell_type": "code",
   "execution_count": 14,
   "metadata": {},
   "outputs": [
    {
     "name": "stdout",
     "output_type": "stream",
     "text": [
      "Super Car Car is running, which cost 200k USD\n",
      "Super Car Car is running at 200 km/h\n",
      "Toyota Car is running, which cost 100k USD\n",
      "Tarjen Car is running, which cost 150k USD\n",
      "Tarjen Car is running at 240 km/h\n"
     ]
    }
   ],
   "source": [
    "#How does Python implement method overloading? Give an example\n",
    "class Car:\n",
    "  def run(self,name, speed=None, cost=200):\n",
    "    print(f'{name} Car is running, which cost {cost}k USD')\n",
    "    if speed:\n",
    "      print(f'{name} Car is running at {speed} km/h')\n",
    "\n",
    "    def engine(self,*spe):\n",
    "        print()\n",
    "\n",
    "car = Car()\n",
    "#Calling method with two arguments \n",
    "car.run('Super Car','200')\n",
    "#Calling method with two different arguments \n",
    "car.run('Toyota',cost=100)\n",
    "#Calling method with three agruments \n",
    "car.run(\"Tarjen\",240,150)"
   ]
  },
  {
   "cell_type": "markdown",
   "metadata": {},
   "source": [
    "Arbitrary Arguments, *args\n",
    "If you do not know how many arguments that will be passed into your function, add a * before the parameter name in the function definition"
   ]
  },
  {
   "cell_type": "code",
   "execution_count": 23,
   "metadata": {},
   "outputs": [
    {
     "name": "stdout",
     "output_type": "stream",
     "text": [
      "Super Car is running at 280km/h speed..\n",
      "Toyota is running at 280km/h speed..\n"
     ]
    }
   ],
   "source": [
    "#How does Python implement method overloading? Give an example\n",
    "class Car:\n",
    "  def run(self,*props):\n",
    "    print(f'{props[0]} is running at {props[1]}km/h speed..')\n",
    "    \n",
    "car = Car()\n",
    "car.run('Super Car','280','500')\n",
    "car.run('Toyota','280')"
   ]
  },
  {
   "cell_type": "markdown",
   "metadata": {},
   "source": [
    "Arbitrary Keyword Arguments, **kwargs\n",
    "If you do not know how many keyword arguments that will be passed into your function, add two asterisk: \n",
    "** before the parameter name in the function definition."
   ]
  },
  {
   "cell_type": "code",
   "execution_count": 27,
   "metadata": {},
   "outputs": [
    {
     "name": "stdout",
     "output_type": "stream",
     "text": [
      "Super Car is running at 280km/h speed..\n"
     ]
    }
   ],
   "source": [
    "#How does Python implement method overloading? Give an example\n",
    "class Car:\n",
    "  def run(self,**props):\n",
    "    print(f'{props['name']} is running at {props['speed']}km/h speed..')\n",
    "    \n",
    "car = Car()\n",
    "car.run(name='Super Car',speed='280')"
   ]
  },
  {
   "cell_type": "markdown",
   "metadata": {},
   "source": [
    "Q5: What are the three types of access modifiers in Python? How are they denoted?"
   ]
  },
  {
   "cell_type": "code",
   "execution_count": 45,
   "metadata": {},
   "outputs": [
    {
     "name": "stdout",
     "output_type": "stream",
     "text": [
      "Jibrail is a student of Btech( 4th Year)\n"
     ]
    }
   ],
   "source": [
    "#Python has three types of access modifiers:\n",
    "\n",
    "#Public: These members are accessible from anywhere. No special syntax is used for public members.\n",
    "#Protected: These members are accessible within the class and its subclasses. They are denoted by a single underscore prefix (e.g., _protected_member).\n",
    "#Private: These members are accessible only within the class. They are denoted by a double underscore prefix (e.g., __private_member).\n",
    "\n",
    "#Public access modifiers\n",
    "class Student:\n",
    "    def __init__(self,name,roll_no,course,duretion):\n",
    "        self.name=name\n",
    "        self.roll_no=roll_no\n",
    "        self.course=course\n",
    "        self.duretion = duretion\n",
    "    \n",
    "    def display(self):\n",
    "        duretion_yr= slice(0,1)\n",
    "        print(f'{self.name} is a student of {self.course}( {self.duretion[duretion_yr]}th Year)')\n",
    "\n",
    "S=Student('Jibrail','19dcs041','Btech','4 Years')\n",
    "S.display()"
   ]
  },
  {
   "cell_type": "code",
   "execution_count": 55,
   "metadata": {},
   "outputs": [
    {
     "name": "stdout",
     "output_type": "stream",
     "text": [
      "Alpha\n",
      "Roll: 1234567\n",
      "Branch: Machenical Engineering\n",
      "Name: Gama\n",
      "Roll: 123321\n",
      "Branch: Computer Engineering\n"
     ]
    }
   ],
   "source": [
    "# program to illustrate protected access modifier in a class\n",
    "\n",
    "# super class\n",
    "class Student:\n",
    "\n",
    "    # protected data members\n",
    "    _name = None\n",
    "    _roll = None\n",
    "    _branch = None\n",
    "\n",
    "    # constructor\n",
    "    def __init__(self, name, roll, branch):\n",
    "        self._name = name\n",
    "        self._roll = roll\n",
    "        self._branch = branch\n",
    "\n",
    "    # protected member function\n",
    "    def _displayRollAndBranch(self):\n",
    "\n",
    "        # accessing protected data members\n",
    "        print(\"Roll:\", self._roll)\n",
    "        print(\"Branch:\", self._branch)\n",
    "\n",
    "# derived class\n",
    "class CS_Student(Student):\n",
    "\n",
    "    # constructor\n",
    "    def __init__(self, name, roll, branch):\n",
    "        Student.__init__(self, name, roll, branch)\n",
    "\n",
    "    # public member function\n",
    "    def displayDetails(self):\n",
    "\n",
    "        # accessing protected data members of super class\n",
    "        print(\"Name:\", self._name)\n",
    "\n",
    "        # accessing protected member functions of super class\n",
    "        self._displayRollAndBranch()\n",
    "\n",
    "\n",
    "stu = Student(\"Alpha\", 1234567, \"Machenical Engineering\")\n",
    "\n",
    "# protected members and methods can be still accessed\n",
    "print(stu._name)\n",
    "stu._displayRollAndBranch()\n",
    "\n",
    "cs_stu =CS_Student(\"Gama\",123321,\"Computer Engineering\")\n",
    "cs_stu.displayDetails()"
   ]
  },
  {
   "cell_type": "code",
   "execution_count": 61,
   "metadata": {},
   "outputs": [
    {
     "name": "stdout",
     "output_type": "stream",
     "text": [
      "----------\n",
      "R2J\n",
      "1706256\n",
      "Information Technology\n",
      "-------------------\n",
      "Name: R2J\n",
      "Roll: 1706256\n",
      "Branch: Information Technology\n",
      "----------\n",
      "Name: R2J\n",
      "Roll: 1706256\n",
      "Branch: Information Technology\n"
     ]
    }
   ],
   "source": [
    "# program to illustrate private access modifier in a class\n",
    "class Student:\n",
    "    # private members\n",
    "    __name = None\n",
    "    __roll = None\n",
    "    __branch = None\n",
    "\n",
    "    # constructor\n",
    "    def __init__(self, name, roll, branch):\n",
    "        self.__name = name\n",
    "        self.__roll = roll\n",
    "        self.__branch = branch\n",
    "\n",
    "    # private member function\n",
    "    def __displayDetails(self):\n",
    "\n",
    "        # accessing private data members\n",
    "        print(\"Name:\", self.__name)\n",
    "        print(\"Roll:\", self.__roll)\n",
    "        print(\"Branch:\", self.__branch)\n",
    "\n",
    "    # public member function\n",
    "    def accessPrivateFunction(self):\n",
    "\n",
    "        # accessing private member function\n",
    "        self.__displayDetails()\n",
    "\n",
    "# creating object\n",
    "stu1 = Student(\"R2J\", 1706256, \"Information Technology\")\n",
    "print(\"----------\")\n",
    "\n",
    "# Throws error\n",
    "# obj.__name\n",
    "# obj.__roll\n",
    "# obj.__branch\n",
    "# obj.__displayDetails()\n",
    "\n",
    "# To access private members of a class\n",
    "print(stu1._Student__name)\n",
    "print(stu1._Student__roll)\n",
    "print(stu1._Student__branch)\n",
    "print(\"-------------------\")\n",
    "stu1._Student__displayDetails()\n",
    "\n",
    "\n",
    "# calling public member function of the class\n",
    "print(\"----------\")\n",
    "stu1.accessPrivateFunction()\n"
   ]
  },
  {
   "cell_type": "markdown",
   "metadata": {},
   "source": [
    "Q6: Describe the five types of inheritance in Python. Provide a simple example of multiple inheritance"
   ]
  },
  {
   "cell_type": "code",
   "execution_count": 103,
   "metadata": {},
   "outputs": [
    {
     "name": "stdout",
     "output_type": "stream",
     "text": [
      "Single Inheritance------------------>\n",
      "Person class display\n",
      "Multiple Inheritance----------------->\n",
      "Person class display\n",
      "Teacher is teaching\n",
      "Multilevel Inheritance-------------->\n",
      "Person class display\n",
      "Hierarchical Inheritance-------------->\n",
      "Veg Food item\n",
      "Non-Veg Food Item\n",
      "Hybrid Inheritance-------------->\n",
      "Child1\n",
      "Child2\n"
     ]
    }
   ],
   "source": [
    "#1: Single Inheritance: A class inherits from a single base class.\n",
    "class Person:\n",
    "    def display(self):\n",
    "        print('Person class display')\n",
    "class Student(Person):\n",
    "    pass\n",
    "\n",
    "print(\"Single Inheritance------------------>\")    \n",
    "S = Student()\n",
    "S.display()\n",
    "\n",
    "#2: Multiple Inheritance: A class inherits from multiple base classes.\n",
    "class Teacher:\n",
    "    def teaching(self):\n",
    "        print(\"Teacher is teaching\")\n",
    "\n",
    "class Staff(Person,Teacher): \n",
    "    pass\n",
    "\n",
    "print(\"Multiple Inheritance----------------->\")\n",
    "st = Staff()\n",
    "st.display()\n",
    "st.teaching()\n",
    "\n",
    "#3: Multilevel Inheritance: A class inherits from a derived class, forming a chain of inheritance.\n",
    "class CS_Student(Student):\n",
    "    pass\n",
    "print(\"Multilevel Inheritance-------------->\")\n",
    "cs_s=CS_Student()\n",
    "cs_s.display()\n",
    "#4: Hierarchical Inheritance: Multiple classes inherit from a single base class.\n",
    "class Food:\n",
    "    def display(self):\n",
    "        pass\n",
    "class Veg_Food(Food):\n",
    "    def display(self):\n",
    "        print(\"Veg Food item\")\n",
    "class Non_Veg_Food(Food):\n",
    "    def display(self):\n",
    "        print(\"Non-Veg Food Item\")\n",
    "\n",
    "print(\"Hierarchical Inheritance-------------->\")\n",
    "veg = Veg_Food()\n",
    "veg.display()\n",
    "non_veg = Non_Veg_Food()\n",
    "non_veg.display()\n",
    "\n",
    "    \n",
    "#5: Hybrid Inheritance: A combination of multiple inheritance and multilevel inheritance.\n",
    "class Parent:\n",
    "    def display(self):\n",
    "        print(\"Parent\")\n",
    "class Child1(Parent):\n",
    "    def display1(self):\n",
    "        print(\"Child1\")\n",
    "class Child2(Parent):\n",
    "    def display2(self):\n",
    "        print(\"Child2\")\n",
    "class GrandChild(Child1,Child2):\n",
    "    def display(self):\n",
    "        pass\n",
    "print(\"Hybrid Inheritance-------------->\")\n",
    "grn_ch= GrandChild()\n",
    "grn_ch.display1()\n",
    "grn_ch.display2()"
   ]
  },
  {
   "cell_type": "markdown",
   "metadata": {},
   "source": [
    "Q7: What is the Method Resolution Order (MRO) in Python? How can you retrieve it programmatically?"
   ]
  },
  {
   "cell_type": "code",
   "execution_count": 104,
   "metadata": {},
   "outputs": [
    {
     "name": "stdout",
     "output_type": "stream",
     "text": [
      "Child1\n",
      "Child2\n",
      "[<class '__main__.GrandChild'>, <class '__main__.Child1'>, <class '__main__.Child2'>, <class '__main__.Parent'>, <class 'object'>]\n",
      "(<class '__main__.GrandChild'>, <class '__main__.Child1'>, <class '__main__.Child2'>, <class '__main__.Parent'>, <class 'object'>)\n"
     ]
    }
   ],
   "source": [
    "\"\"\"\n",
    "The Method Resolution Order (MRO) is the order in which Python searches for methods in a class hierarchy, \n",
    "especially in cases of multiple inheritance. It ensures a consistent and predictable method lookup process\n",
    "You can retrieve the MRO programmatically using the __mro__ attribute or the mro() method..\n",
    "\"\"\"\n",
    "grn_ch1=GrandChild()\n",
    "grn_ch1.display1()\n",
    "grn_ch1.display2()\n",
    "print(GrandChild.mro())\n",
    "print(GrandChild.__mro__)"
   ]
  },
  {
   "cell_type": "markdown",
   "metadata": {},
   "source": [
    "Q8: Create an abstract base class `Shape` with an abstract method `area()`. Then create two subclasses \n",
    "`Circle` and `Rectangle` that implement the `area()` method"
   ]
  },
  {
   "cell_type": "code",
   "execution_count": 111,
   "metadata": {},
   "outputs": [
    {
     "name": "stdout",
     "output_type": "stream",
     "text": [
      "Area of circle :  314.0\n",
      "Area of rectangle :  242\n"
     ]
    }
   ],
   "source": [
    "from abc import ABC, abstractmethod\n",
    "\n",
    "class Shape(ABC):\n",
    "  @abstractmethod\n",
    "  def area(self):\n",
    "    pass\n",
    "\n",
    "class Circle(Shape):\n",
    "  def __init__(self, radius):\n",
    "    self.radius = radius\n",
    "  def area(self):\n",
    "    return 3.14 * self.radius * self.radius\n",
    "\n",
    "class Rectangle(Shape):\n",
    "  def __init__(self, length, width):\n",
    "    self.length = length\n",
    "    self.width = width\n",
    "  def area(self):\n",
    "    return self.length * self.width\n",
    "\n",
    "crl= Circle(10)\n",
    "print('Area of circle : ',crl.area())\n",
    "rect =Rectangle(22,11)\n",
    "print('Area of rectangle : ',rect.area())"
   ]
  },
  {
   "cell_type": "markdown",
   "metadata": {},
   "source": [
    "Q9: Demonstrate polymorphism by creating a function that can work with different shape objects to calculate \n",
    "and print their areas"
   ]
  },
  {
   "cell_type": "code",
   "execution_count": 112,
   "metadata": {},
   "outputs": [
    {
     "name": "stdout",
     "output_type": "stream",
     "text": [
      "78.5\n",
      "24\n"
     ]
    }
   ],
   "source": [
    "def print_area(shape):\n",
    "  print(shape.area())\n",
    "\n",
    "# Create instances of different shapes\n",
    "circle = Circle(5)\n",
    "rectangle = Rectangle(4, 6)\n",
    "\n",
    "# Call the function with different shape objects\n",
    "print_area(circle)\n",
    "print_area(rectangle)"
   ]
  },
  {
   "cell_type": "markdown",
   "metadata": {},
   "source": [
    "Q10: Implement encapsulation in a `BankAccount` class with private attributes for `balance` and \n",
    "`account_number`. Include methods for deposit, withdrawal, and balance inquiry"
   ]
  },
  {
   "cell_type": "code",
   "execution_count": 117,
   "metadata": {},
   "outputs": [
    {
     "name": "stdout",
     "output_type": "stream",
     "text": [
      "Deposited $20000. New balance: $20000\n",
      "Withdrew $5000. New balance: $15000\n"
     ]
    }
   ],
   "source": [
    "class BankAccount:\n",
    "  def __init__(self, account_number, initial_balance=0):\n",
    "    self.__account_number = account_number\n",
    "    self.__balance = initial_balance\n",
    "\n",
    "  def deposit(self, amount):\n",
    "    if amount > 0:\n",
    "      self.__balance += amount\n",
    "      print(f\"Deposited ${amount}. New balance: ${self.__balance}\")\n",
    "    else:\n",
    "      print(\"Invalid deposit amount.\")\n",
    "\n",
    "  def withdraw(self, amount):\n",
    "    if 0 < amount <= self.__balance:\n",
    "      self.__balance -= amount\n",
    "      print(f\"Withdrew ${amount}. New balance: ${self.__balance}\")\n",
    "    else:\n",
    "      print(\"Insufficient funds or invalid withdrawal amount.\")\n",
    "\n",
    "  def get_balance(self):\n",
    "    return self.__balance\n",
    "\n",
    "customer1 = BankAccount('12345')\n",
    "customer1.deposit(20000)\n",
    "customer1.withdraw(5000)"
   ]
  },
  {
   "cell_type": "markdown",
   "metadata": {},
   "source": [
    "Q11: Write a class that overrides the `__str__` and `__add__` magic methods. What will these methods allow \n",
    "you to do"
   ]
  },
  {
   "cell_type": "code",
   "execution_count": 173,
   "metadata": {},
   "outputs": [
    {
     "name": "stdout",
     "output_type": "stream",
     "text": [
      "Value: 5\n",
      "Value: 150.0\n"
     ]
    }
   ],
   "source": [
    "class MyNumber:\n",
    "  def __init__(self, value):\n",
    "    self.value = value\n",
    "\n",
    "  def __str__(self):\n",
    "    return f\"Value: {self.value}\"\n",
    "\n",
    "  def __add__(self, other):\n",
    "    return MyNumber((self.value + other.value)*10.0)\n",
    "# Create instances of the class\n",
    "num1 = MyNumber(5)\n",
    "num2 = MyNumber(10)\n",
    "\n",
    "# __str__ is implicitly called when you print the object\n",
    "print(num1)\n",
    "\n",
    "# __add__ is implicitly called when you use the + operator\n",
    "result = num1 + num2\n",
    "print(result)\n"
   ]
  },
  {
   "cell_type": "markdown",
   "metadata": {},
   "source": [
    "Q12: Create a decorator that measures and prints the execution time of a function."
   ]
  },
  {
   "cell_type": "code",
   "execution_count": 185,
   "metadata": {},
   "outputs": [
    {
     "name": "stdout",
     "output_type": "stream",
     "text": [
      "0\n",
      "1\n",
      "2\n",
      "3\n",
      "4\n",
      "5\n",
      "6\n",
      "7\n",
      "8\n",
      "9\n",
      "Execution time: 0.0 seconds\n",
      "Done\n"
     ]
    }
   ],
   "source": [
    "import time\n",
    "\n",
    "def timer(func):\n",
    "  def wrapper(*args, **kwargs):\n",
    "    start_time = time.time()\n",
    "    result = func(*args, **kwargs)  # Call the decorated function\n",
    "    end_time = time.time()\n",
    "    execution_time = end_time - start_time\n",
    "    print(f\"Execution time: {execution_time} seconds\")\n",
    "    return result\n",
    "  return wrapper\n",
    "\n",
    "@timer\n",
    "def count_ten():\n",
    "    for i in range(10):\n",
    "        print(i)\n",
    "    return \"Done\"\n",
    "\n",
    "print(count_ten())"
   ]
  },
  {
   "cell_type": "markdown",
   "metadata": {},
   "source": [
    "Q13: Explain the concept of the Diamond Problem in multiple inheritance. How does Python resolve it?"
   ]
  },
  {
   "cell_type": "markdown",
   "metadata": {},
   "source": [
    "The Diamond Problem occurs in multiple inheritance when a class inherits from two classes that have a common base class. This creates ambiguity about which method to inherit from if both subclasses override the same method from the common base class.\n",
    "\n",
    "Python resolves the Diamond Problem using the Method Resolution Order (MRO). The MRO defines a specific order in which Python searches for methods in a class hierarchy. It follows a depth-first, left-to-right approach, ensuring a consistent and predictable method lookup.\n",
    "\n",
    "For example, if class D inherits from classes B and C, which both inherit from class A, Python uses the MRO to determine the order in which to search for methods when a method is called on an instance of D.\n",
    "\n",
    "The MRO in Python is based on the C3 linearization algorithm, which ensures that:\n",
    "\n",
    "Subclasses come before base classes.\n",
    "The order of inheritance is preserved.\n",
    "Monotonicity is maintained (if a class appears before another in one MRO, it should appear before in all MROs where they both appear).\n",
    "This approach effectively resolves the Diamond Problem by providing a clear and consistent method lookup order"
   ]
  },
  {
   "cell_type": "markdown",
   "metadata": {},
   "source": [
    "Q14: Write a class method that keeps track of the number of instances created from a class."
   ]
  },
  {
   "cell_type": "code",
   "execution_count": 189,
   "metadata": {},
   "outputs": [
    {
     "name": "stdout",
     "output_type": "stream",
     "text": [
      "3\n"
     ]
    }
   ],
   "source": [
    "class MyClass:\n",
    "  instance_count = 0  # Class variable to track instances\n",
    "\n",
    "  def __init__(self):\n",
    "    MyClass.instance_count += 1\n",
    "\n",
    "  @classmethod\n",
    "  def get_instance_count(cls):\n",
    "    return cls.instance_count\n",
    "\n",
    "C1 = MyClass()\n",
    "c2 = MyClass()\n",
    "c3 = MyClass()\n",
    "print(MyClass.get_instance_count())"
   ]
  },
  {
   "cell_type": "markdown",
   "metadata": {},
   "source": [
    "Q15: Implement a static method in a class that checks if a given year is a leap year"
   ]
  },
  {
   "cell_type": "code",
   "execution_count": 195,
   "metadata": {},
   "outputs": [
    {
     "name": "stdout",
     "output_type": "stream",
     "text": [
      "Is 2024 Leap Year: True\n"
     ]
    }
   ],
   "source": [
    "class DateUtils:\n",
    "  @staticmethod\n",
    "  def is_leap_year(year):\n",
    "    if year % 4 == 0:\n",
    "      if year % 100 == 0:\n",
    "        if year % 400 == 0:\n",
    "          return True\n",
    "        else:\n",
    "          return False\n",
    "      else:\n",
    "        return True\n",
    "    else:\n",
    "      return False\n",
    "\n",
    "print('Is 2024 Leap Year:',DateUtils.is_leap_year(2024))"
   ]
  },
  {
   "cell_type": "code",
   "execution_count": 198,
   "metadata": {},
   "outputs": [
    {
     "name": "stdout",
     "output_type": "stream",
     "text": [
      "End of Assignment --->\n"
     ]
    }
   ],
   "source": [
    "print(\"End of Assignment --->\")"
   ]
  },
  {
   "cell_type": "code",
   "execution_count": null,
   "metadata": {},
   "outputs": [],
   "source": []
  }
 ],
 "metadata": {
  "kernelspec": {
   "display_name": "Python 3",
   "language": "python",
   "name": "python3"
  },
  "language_info": {
   "codemirror_mode": {
    "name": "ipython",
    "version": 3
   },
   "file_extension": ".py",
   "mimetype": "text/x-python",
   "name": "python",
   "nbconvert_exporter": "python",
   "pygments_lexer": "ipython3",
   "version": "3.12.2"
  }
 },
 "nbformat": 4,
 "nbformat_minor": 2
}
