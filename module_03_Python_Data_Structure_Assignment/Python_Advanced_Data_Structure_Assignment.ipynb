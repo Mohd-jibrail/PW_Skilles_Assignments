{
 "cells": [
  {
   "cell_type": "code",
   "execution_count": 1,
   "metadata": {},
   "outputs": [
    {
     "name": "stdout",
     "output_type": "stream",
     "text": [
      "olleh\n"
     ]
    }
   ],
   "source": [
    "# Write a code to reverse a string.\n",
    "def reverse(str):\n",
    "    str = str[::-1]\n",
    "    return str\n",
    "print(reverse(\"hello\"))"
   ]
  },
  {
   "cell_type": "code",
   "execution_count": 2,
   "metadata": {},
   "outputs": [
    {
     "name": "stdout",
     "output_type": "stream",
     "text": [
      "2\n"
     ]
    }
   ],
   "source": [
    " #Write a code to count the number of vowels in a string\n",
    " def count_vowels(str):\n",
    "    count = 0\n",
    "    for char in str:\n",
    "        if char in \"aeiouAEIOU\":\n",
    "            count += 1\n",
    "    return count\n",
    "print(count_vowels(\"hello\"))"
   ]
  },
  {
   "cell_type": "code",
   "execution_count": 3,
   "metadata": {},
   "outputs": [
    {
     "name": "stdout",
     "output_type": "stream",
     "text": [
      "True\n"
     ]
    }
   ],
   "source": [
    "#Write a code to check if a given string is a polindrome or not\n",
    "def is_palindrome(str):\n",
    "    if str == str[::-1]:\n",
    "        return True\n",
    "    else:\n",
    "        return False\n",
    "print(is_palindrome(\"madam\"))"
   ]
  },
  {
   "cell_type": "code",
   "execution_count": 4,
   "metadata": {},
   "outputs": [
    {
     "name": "stdout",
     "output_type": "stream",
     "text": [
      "True\n"
     ]
    }
   ],
   "source": [
    "# Write a code to check if two given strings are anagrams of each others\n",
    "def is_anagram(str1, str2):\n",
    "    if sorted(str1) == sorted(str2):\n",
    "        return True\n",
    "    else:\n",
    "        return False\n",
    "print(is_anagram(\"hello\", \"olleh\"))"
   ]
  },
  {
   "cell_type": "code",
   "execution_count": 5,
   "metadata": {},
   "outputs": [],
   "source": [
    "# Write a code to find all occurrences of a given substring within another strings\n",
    "def finde_substring(str1, str2):\n",
    "    count = 0\n",
    "    for i in range(len(str1)):\n",
    "        if str1[i:i+len(str2)] == str2:\n",
    "            count += 1\n",
    "    return count"
   ]
  },
  {
   "cell_type": "code",
   "execution_count": 6,
   "metadata": {},
   "outputs": [
    {
     "name": "stdout",
     "output_type": "stream",
     "text": [
      "a2b1c5a3\n"
     ]
    }
   ],
   "source": [
    "#Write a code to perform basic string compression using the counts of repeated characters\n",
    "def compress_string(text):\n",
    "  if not text:\n",
    "    return text\n",
    "\n",
    "  compressed = \"\"\n",
    "  count = 1\n",
    "  prev_char = text[0]\n",
    "\n",
    "  for char in text[1:]:\n",
    "    if char == prev_char:\n",
    "      count += 1\n",
    "    else:\n",
    "      compressed += prev_char + str(count)\n",
    "      prev_char = char\n",
    "      count = 1\n",
    "\n",
    "  compressed += prev_char + str(count)  # Add the last character and its count\n",
    "\n",
    "  if len(compressed) >= len(text):\n",
    "    return text\n",
    "  else:\n",
    "    return compressed\n",
    "\n",
    "# Example usage\n",
    "text = \"aabcccccaaa\"\n",
    "compressed_text = compress_string(text)\n",
    "print(compressed_text)  # Output: a2b1c5a3\n"
   ]
  },
  {
   "cell_type": "code",
   "execution_count": 9,
   "metadata": {},
   "outputs": [
    {
     "name": "stdout",
     "output_type": "stream",
     "text": [
      "True\n"
     ]
    }
   ],
   "source": [
    "#Write a code to determine if a string has all unique characters\n",
    "def has_unique_characters(text):\n",
    "  unique_chars = set()\n",
    "\n",
    "  for char in text:\n",
    "    if char in unique_chars:\n",
    "      return False\n",
    "    unique_chars.add(char)\n",
    "\n",
    "  return True\n",
    "print(has_unique_characters('helo'))"
   ]
  },
  {
   "cell_type": "code",
   "execution_count": 11,
   "metadata": {},
   "outputs": [
    {
     "name": "stdout",
     "output_type": "stream",
     "text": [
      "hello\n",
      "HELLO\n"
     ]
    }
   ],
   "source": [
    " #Write a code to convert a given string to uppercase or lowercase\n",
    " def convert_lowercase(str):\n",
    "   return str.lower()\n",
    "\n",
    "def convert_uppercase(str):\n",
    "   return str.upper()\n",
    "\n",
    "   \n",
    "print(convert_lowercase(\"HELLO\"))\n",
    "print(convert_uppercase(\"hello\"))"
   ]
  },
  {
   "cell_type": "code",
   "execution_count": 12,
   "metadata": {},
   "outputs": [
    {
     "name": "stdout",
     "output_type": "stream",
     "text": [
      "2\n"
     ]
    }
   ],
   "source": [
    "#Write a code to count the number of words in a string\n",
    "def count_words(str):\n",
    "  return len(str.split())\n",
    "print(count_words(\"hello world\"))\n"
   ]
  },
  {
   "cell_type": "code",
   "execution_count": 13,
   "metadata": {},
   "outputs": [
    {
     "name": "stdout",
     "output_type": "stream",
     "text": [
      "PWSkills\n"
     ]
    }
   ],
   "source": [
    "#Write a code to concatenate two strings without using the + oper'tors\n",
    "def concatenate_string(str1,str2):\n",
    "  return ''.join([str1,str2])\n",
    "\n",
    "print(concatenate_string('PW','Skills'))"
   ]
  },
  {
   "cell_type": "code",
   "execution_count": null,
   "metadata": {},
   "outputs": [],
   "source": []
  }
 ],
 "metadata": {
  "kernelspec": {
   "display_name": "Python 3",
   "language": "python",
   "name": "python3"
  },
  "language_info": {
   "codemirror_mode": {
    "name": "ipython",
    "version": 3
   },
   "file_extension": ".py",
   "mimetype": "text/x-python",
   "name": "python",
   "nbconvert_exporter": "python",
   "pygments_lexer": "ipython3",
   "version": "3.12.2"
  }
 },
 "nbformat": 4,
 "nbformat_minor": 2
}
