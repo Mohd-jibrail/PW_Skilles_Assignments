{
 "cells": [
  {
   "cell_type": "markdown",
   "metadata": {},
   "source": [
    "Q1: Discuss String slicing and provide examples?"
   ]
  },
  {
   "cell_type": "code",
   "execution_count": 22,
   "metadata": {},
   "outputs": [
    {
     "name": "stdout",
     "output_type": "stream",
     "text": [
      "House No :  123\n",
      "Street Name :  Main Street\n",
      "City Name :  New Delhi\n",
      "Country Name :  India\n"
     ]
    }
   ],
   "source": [
    "# 1: Using a slice() method\n",
    "##slice(stop)\n",
    "##slice(start, stop, step)\n",
    "##----------------------------------------##\n",
    "address ='123 Main Street,New Delhi,India '\n",
    "house_no = slice(3)\n",
    "street_name = slice(4,15)\n",
    "city_name = slice(16,25)\n",
    "country_name = slice(26,-1)\n",
    "\n",
    "print('House No : ',address[house_no])\n",
    "print('Street Name : ',address[street_name])\n",
    "print('City Name : ', address[city_name])\n",
    "print('Country Name : ', address[country_name])\n"
   ]
  },
  {
   "cell_type": "code",
   "execution_count": 36,
   "metadata": {},
   "outputs": [
    {
     "name": "stdout",
     "output_type": "stream",
     "text": [
      "Building Number :  12S/4\n",
      "Street Name :   Old Street\n",
      "City Name :  New Delh\n",
      "Country Name :  India\n",
      "ZipCode :  110025\n",
      "Full Address :  12S/4 Old Street,New Delhi,India 110025\n"
     ]
    }
   ],
   "source": [
    "##Using the array slicing  [:: ] method\n",
    "#arr[start:stop]         # items start through stop-1\n",
    "#arr[start:]             # items start through the rest of the array\n",
    "#arr[:stop]              # items from the beginning through stop-1\n",
    "#arr[:]                  # a copy of the whole array\n",
    "#arr[start:stop:step]    # start through not past stop, by step\n",
    "college_address ='12S/4 Old Street,New Delhi,India 110025'\n",
    "building_no = college_address[:5]\n",
    "street_name = college_address[5:16]\n",
    "city_name = college_address[17:25]\n",
    "country_name = college_address[27:32]\n",
    "zipCode = college_address[33:]\n",
    "full_address = college_address[:]\n",
    "\n",
    "print('Building Number : ', building_no)\n",
    "print('Street Name : ', street_name)\n",
    "print('City Name : ', city_name)\n",
    "print('Country Name : ', country_name)\n",
    "print('ZipCode : ', zipCode)\n",
    "print('Full Address : ', full_address)"
   ]
  },
  {
   "cell_type": "markdown",
   "metadata": {},
   "source": [
    "Q2: Exaplain key feature of List in python?"
   ]
  },
  {
   "cell_type": "code",
   "execution_count": 47,
   "metadata": {},
   "outputs": [
    {
     "name": "stdout",
     "output_type": "stream",
     "text": [
      "Shuaib\n",
      "Old student List :  ['Jibrail', 'Shuaib', 'Ayyub', 'Aman', 'Aryan', 'Tanushree']\n",
      "Shuaib Khan\n",
      "New students List :  ['Jibrail', 'Shuaib Khan', 'Ayyub', 'Aman', 'Aryan', 'Tanushree']\n",
      "['Jibrail', 'Shuaib Khan', 'Ayyub', 'Aman', 'Aryan', 'Tanushree', 'Jibrail']\n"
     ]
    }
   ],
   "source": [
    "#Lists are used to store multiple items in a single variable.\n",
    "#List items are ordered, \n",
    "studentList = ['Jibrail', 'Shuaib', 'Ayyub', 'Aman', 'Aryan','Tanushree']\n",
    "print(studentList[1])\n",
    "print('Old student List : ',studentList)\n",
    "\n",
    "#changeable(mutable)\n",
    "studentList[1]= 'Shuaib Khan'\n",
    "print(studentList[1])\n",
    "print('New students List : ',studentList)\n",
    "\n",
    "# allow duplicate values.\n",
    "studentList.append(\"Jibrail\")\n",
    "print(studentList)\n"
   ]
  },
  {
   "cell_type": "markdown",
   "metadata": {},
   "source": [
    "Q3: Describe how to access, modify and delete elements in List with examples"
   ]
  },
  {
   "cell_type": "code",
   "execution_count": 57,
   "metadata": {},
   "outputs": [
    {
     "name": "stdout",
     "output_type": "stream",
     "text": [
      "Apple\n",
      "Mango\n",
      "Lichi\n",
      "['Banana', 'Orange', 'Lichi', 'Mango', 'apple']\n",
      "['Orange', 'Lichi', 'Mango', 'apple']\n",
      "['Orange', 'Lichi', 'Mango']\n"
     ]
    }
   ],
   "source": [
    "#Access Item in List \n",
    "fruites = ['Banana', 'Apple', 'Mango']\n",
    "print(fruites[1])\n",
    "print(fruites[-1])\n",
    "\n",
    "# Modify \n",
    "fruites[1]='Lichi'\n",
    "print(fruites[1])\n",
    "fruites.append(\"apple\")\n",
    "fruites.insert(1,\"Orange\")\n",
    "print(fruites)\n",
    "\n",
    "\n",
    "#Delete \n",
    "fruites.remove('Banana')\n",
    "print(fruites)\n",
    "fruites.pop()\n",
    "print(fruites)\n"
   ]
  },
  {
   "cell_type": "markdown",
   "metadata": {},
   "source": [
    "Q4: Compare and contrast tuples and List with example"
   ]
  },
  {
   "cell_type": "code",
   "execution_count": 59,
   "metadata": {},
   "outputs": [
    {
     "name": "stdout",
     "output_type": "stream",
     "text": [
      "2\n",
      "2\n"
     ]
    },
    {
     "ename": "AttributeError",
     "evalue": "'tuple' object has no attribute 'append'",
     "output_type": "error",
     "traceback": [
      "\u001b[1;31m---------------------------------------------------------------------------\u001b[0m",
      "\u001b[1;31mAttributeError\u001b[0m                            Traceback (most recent call last)",
      "Cell \u001b[1;32mIn[59], line 7\u001b[0m\n\u001b[0;32m      5\u001b[0m \u001b[38;5;28mprint\u001b[39m(numbers2[\u001b[38;5;241m1\u001b[39m])\n\u001b[0;32m      6\u001b[0m numbers1\u001b[38;5;241m.\u001b[39mappend(\u001b[38;5;124m'\u001b[39m\u001b[38;5;124msix\u001b[39m\u001b[38;5;124m'\u001b[39m)\n\u001b[1;32m----> 7\u001b[0m \u001b[43mnumbers2\u001b[49m\u001b[38;5;241;43m.\u001b[39;49m\u001b[43mappend\u001b[49m(\u001b[38;5;124m'\u001b[39m\u001b[38;5;124msix\u001b[39m\u001b[38;5;124m'\u001b[39m)\n",
      "\u001b[1;31mAttributeError\u001b[0m: 'tuple' object has no attribute 'append'"
     ]
    }
   ],
   "source": [
    "#List are mutable and Tuple are iimutable data structure \n",
    "numbers1 =[1,2,3,4,5,'One','two','three','four','five']\n",
    "numbers2 =(1,2,3,4,5,'one','two','three','four','five')\n",
    "print(numbers1[1])\n",
    "print(numbers2[1])\n",
    "# List allow adding new item\n",
    "numbers1.append('six')\n",
    "# tuple give error for adding item\n",
    "#numbers2.append('six')\n"
   ]
  },
  {
   "cell_type": "markdown",
   "metadata": {},
   "source": [
    "Q5: Describe key feature of sets and provide example of their usecase "
   ]
  },
  {
   "cell_type": "code",
   "execution_count": 70,
   "metadata": {},
   "outputs": [
    {
     "name": "stdout",
     "output_type": "stream",
     "text": [
      "{'Shuaib', 'Jibrail'}\n",
      "{'Shuaib', 1, 'Jibrail'}\n",
      "{'Shuaib', 1, 'Jibrail', ('Mohd', 'Jibrail')}\n",
      "{1, 'Shuaib', 'Jibrail', 12, ('Mohd', 'Jibrail')}\n"
     ]
    }
   ],
   "source": [
    "#1: Sets are data structure in python that don't allow duplicate items\n",
    "StudentSet = {'Jibrail', 'Jibrail', 'Shuaib','Shuaib'}\n",
    "print(StudentSet)\n",
    "\n",
    "#2:  Sets data structure are mutable in python\n",
    "StudentSet.add(1)\n",
    "print(StudentSet)\n",
    "\n",
    "#3:  elements in sets should be immutable, adding List and dictionary to set give TypeError\n",
    "full_name =['Mohd', 'Jibrail']\n",
    "#StudentSet.add(full_name)\n",
    "#TypeError: unhashable type: 'list'\n",
    "full_name =('Mohd', 'Jibrail')\n",
    "StudentSet.add(full_name)\n",
    "print(StudentSet)\n",
    "\n",
    "#4: Sets item are unordered \n",
    "StudentSet.add(12)\n",
    "print(StudentSet)"
   ]
  },
  {
   "cell_type": "code",
   "execution_count": 81,
   "metadata": {},
   "outputs": [
    {
     "name": "stdout",
     "output_type": "stream",
     "text": [
      "Union--------------\n",
      "{1, 2, 3, 4, 5, 7}\n",
      "{1, 2, 3, 4, 5, 7}\n",
      "Intersection--------------\n",
      "{1, 3}\n",
      "Difference--------------\n",
      "{5, 7}\n",
      "{5, 7}\n",
      "{2, 4}\n",
      "{2, 4}\n"
     ]
    }
   ],
   "source": [
    "# Basic operations on Set \n",
    "#Union operation\n",
    "print('Union--------------')\n",
    "num1 ={1,3,5,7}\n",
    "num2 ={1,2,3,4}\n",
    "result = num1.union(num2)\n",
    "print(result)\n",
    "result = num1 | num2\n",
    "print(result)\n",
    "\n",
    "#Intersections of sets \n",
    "print('Intersection--------------')\n",
    "result = num1.intersection(num2)\n",
    "print(result)\n",
    "\n",
    "#Different\n",
    "print('Difference--------------')\n",
    "result = num1.difference(num2)\n",
    "print(result)\n",
    "result = num1 - num2\n",
    "print(result)\n",
    "result = num2.difference(num1)\n",
    "print(result)\n",
    "result = num2 - num1\n",
    "print(result)\n",
    "\n"
   ]
  },
  {
   "cell_type": "markdown",
   "metadata": {},
   "source": [
    "Q6: Discuss the use cases of tuples and sets in python programming "
   ]
  },
  {
   "cell_type": "code",
   "execution_count": 88,
   "metadata": {},
   "outputs": [
    {
     "name": "stdout",
     "output_type": "stream",
     "text": [
      "{1, 2, 3, 4, 5, 6, (1, 2, 3, 4, 5, 6, 4)}\n",
      "{1, 2, 3, 4, 5, 6, (1, 2, 3, 4, 5, 6, 4), 7}\n",
      "Duplicate\n"
     ]
    }
   ],
   "source": [
    "# Tuple is immutable and Set is mutable and stores unique values \n",
    "set1 = {1,2,3,4,5,6}\n",
    "tuple1 = (1,2,3,4,5,6,4)\n",
    "set1.add(tuple1)\n",
    "print(set1)\n",
    "set1.add(7)\n",
    "print(set1)\n",
    "\n",
    "# check if tuple has duplicate item \n",
    "set2 = set(tuple1)\n",
    "if len(set2) == len(tuple1):\n",
    "    print(\"No duplicate\")\n",
    "else :\n",
    "    print(\"Duplicate\")\n"
   ]
  },
  {
   "cell_type": "markdown",
   "metadata": {},
   "source": [
    "Q7: Describe how to add, modify and delete items in the dictionary with examples"
   ]
  },
  {
   "cell_type": "code",
   "execution_count": 5,
   "metadata": {},
   "outputs": [
    {
     "name": "stdout",
     "output_type": "stream",
     "text": [
      "Id :  123456\n",
      "Name :  Jibrail\n",
      "Values :  dict_values(['123456', 'Jibrail'])\n",
      "Keys :  dict_keys(['id', 'name'])\n",
      "{'id': '123', 'name': 'Mohd Jibrail'}\n",
      "{'name': 'Mohd Jibrail'}\n",
      "{'id': '123'}\n",
      "{}\n"
     ]
    }
   ],
   "source": [
    "dic = {\"id\":\"123456\", \"name\":\"Jibrail\"}\n",
    "print(\"Id : \", dic.get('id'))\n",
    "print(\"Name : \", dic.get(\"name\"))\n",
    "print(\"Values : \", dic.values())\n",
    "print(\"Keys : \", dic.keys())\n",
    "\n",
    "#Modifying the dictionary \n",
    "dic.update([('id',\"123\")])\n",
    "dic.update([('name','Mohd Jibrail')])\n",
    "print(dic)\n",
    "\n",
    "#Deleting the item in dictionary\n",
    "# using del \n",
    "del dic['id']\n",
    "print(dic)\n",
    "\n",
    "#using pop method\n",
    "dic.pop('name')\n",
    "dic.update([('id',\"123\")])\n",
    "print(dic)\n",
    "\n",
    "#pop the last item from dictionary\n",
    "dic.popitem()\n",
    "print(dic)"
   ]
  },
  {
   "cell_type": "markdown",
   "metadata": {},
   "source": [
    "Q8: Describe the importance of dictionary keys being immutable and provide example?\n",
    "\n",
    "Ans: Dictionary keys need to be immutable so that they can be hashed efficiently. Hashing allows for fast lookups of values. If keys were mutable, their hash could change, leading to inconsistencies and errors in retrieving the correct values."
   ]
  },
  {
   "cell_type": "code",
   "execution_count": 6,
   "metadata": {},
   "outputs": [],
   "source": [
    "# Valid dictionary with immutable keys\n",
    "my_dict = {\n",
    "    1: \"apple\",\n",
    "    \"banana\": 2,\n",
    "    (1, 2): \"tuple\",\n",
    "}\n",
    "\n",
    "# Invalid dictionary with a mutable key (list)\n",
    "# my_dict = {\n",
    "#     [1, 2]: \"list\" \n",
    "# }"
   ]
  },
  {
   "cell_type": "code",
   "execution_count": null,
   "metadata": {},
   "outputs": [],
   "source": []
  }
 ],
 "metadata": {
  "kernelspec": {
   "display_name": "Python 3",
   "language": "python",
   "name": "python3"
  },
  "language_info": {
   "codemirror_mode": {
    "name": "ipython",
    "version": 3
   },
   "file_extension": ".py",
   "mimetype": "text/x-python",
   "name": "python",
   "nbconvert_exporter": "python",
   "pygments_lexer": "ipython3",
   "version": "3.12.2"
  }
 },
 "nbformat": 4,
 "nbformat_minor": 2
}
