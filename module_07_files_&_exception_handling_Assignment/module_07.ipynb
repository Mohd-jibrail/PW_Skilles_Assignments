{
 "cells": [
  {
   "cell_type": "markdown",
   "metadata": {},
   "source": [
    "Q1: Discuss the scenarios where multithreading is preferable to multiprocessing and scenarios where \n",
    "multiprocessing is a better choice."
   ]
  },
  {
   "cell_type": "markdown",
   "metadata": {},
   "source": [
    "Multithreading\n",
    "\n",
    "When to use:\n",
    "\n",
    "- I/O-bound tasks: If your application spends a lot of time waiting for I/O operations (like reading from a disk, network operations, or user input), multithreading can help. Threads can handle I/O operations while other threads continue processing.\n",
    "- Shared memory space: When tasks need to share data frequently, threads can be more efficient because they share the same memory space, avoiding the overhead of inter-process communication (IPC).\n",
    "- Lightweight tasks: Threads are lighter than processes in terms of memory and context-switching overhead. If you have many small tasks, multithreading can be more efficient.\n",
    "\n",
    "Examples:\n",
    "\n",
    "- Web servers handling multiple client requests.\n",
    "- GUI applications where the main thread handles user interactions while background threads perform tasks like loading data.\n",
    "\n",
    "Multiprocessing\n",
    "\n",
    "When to use:\n",
    "\n",
    "- CPU-bound tasks: If your application is CPU-intensive and can benefit from parallel execution, multiprocessing is preferable. Each process runs on a separate CPU core, maximizing CPU usage.\n",
    "- Isolation: Processes have separate memory spaces, which can be beneficial for tasks that require isolation to avoid data corruption or security issues.\n",
    "- Scalability: Multiprocessing can scale better on multi-core systems, as each process can run independently on different cores.\n",
    "\n",
    "Examples:\n",
    "\n",
    "- Scientific computations and simulations.\n",
    "- Data processing tasks like image or video processing.\n",
    "- Running multiple instances of a program that need to be isolated from each other."
   ]
  },
  {
   "cell_type": "markdown",
   "metadata": {},
   "source": [
    "Multithreading Example"
   ]
  },
  {
   "cell_type": "code",
   "execution_count": 1,
   "metadata": {},
   "outputs": [
    {
     "name": "stdout",
     "output_type": "stream",
     "text": [
      "Number: 1\n",
      "Letter: A\n",
      "Number: 2\n",
      "Letter: B\n",
      "Number: 3\n",
      "Letter: C\n",
      "Number: 4\n",
      "Letter: D\n",
      "Number: 5\n",
      "Letter: E\n",
      "Done with multithreading!\n"
     ]
    }
   ],
   "source": [
    "import threading\n",
    "import time\n",
    "\n",
    "def print_numbers():\n",
    "    for i in range(1, 6):\n",
    "        print(f\"Number: {i}\")\n",
    "        time.sleep(1)\n",
    "\n",
    "def print_letters():\n",
    "    for letter in 'ABCDE':\n",
    "        print(f\"Letter: {letter}\")\n",
    "        time.sleep(1)\n",
    "\n",
    "# Create threads\n",
    "thread1 = threading.Thread(target=print_numbers)\n",
    "thread2 = threading.Thread(target=print_letters)\n",
    "\n",
    "# Start threads\n",
    "thread1.start()\n",
    "thread2.start()\n",
    "\n",
    "# Wait for threads to complete\n",
    "thread1.join()\n",
    "thread2.join()\n",
    "\n",
    "print(\"Done with multithreading!\")\n"
   ]
  },
  {
   "cell_type": "markdown",
   "metadata": {},
   "source": [
    "Multiprocessing Example"
   ]
  },
  {
   "cell_type": "code",
   "execution_count": 2,
   "metadata": {},
   "outputs": [
    {
     "name": "stdout",
     "output_type": "stream",
     "text": [
      "Done with multiprocessing!\n"
     ]
    }
   ],
   "source": [
    "import multiprocessing\n",
    "import time\n",
    "\n",
    "def square_numbers():\n",
    "    for i in range(1, 6):\n",
    "        print(f\"Square: {i * i}\")\n",
    "        time.sleep(1)\n",
    "\n",
    "def cube_numbers():\n",
    "    for i in range(1, 6):\n",
    "        print(f\"Cube: {i * i * i}\")\n",
    "        time.sleep(1)\n",
    "\n",
    "# Create processes\n",
    "process1 = multiprocessing.Process(target=square_numbers)\n",
    "process2 = multiprocessing.Process(target=cube_numbers)\n",
    "\n",
    "# Start processes\n",
    "process1.start()\n",
    "process2.start()\n",
    "\n",
    "# Wait for processes to complete\n",
    "process1.join()\n",
    "process2.join()\n",
    "\n",
    "print(\"Done with multiprocessing!\")\n"
   ]
  },
  {
   "cell_type": "markdown",
   "metadata": {},
   "source": [
    "Q2: Describe what a process pool is and how it helps in managing multiple processes efficiently"
   ]
  },
  {
   "cell_type": "markdown",
   "metadata": {},
   "source": [
    "A process pool is a programming pattern used to manage a fixed number of worker processes efficiently. It is particularly useful for parallelizing tasks and managing multiple processes without the overhead of creating and destroying processes repeatedly.\n",
    "\n",
    "How It Works\n",
    "\n",
    "- Fixed Number of Processes: A process pool maintains a set number of worker processes. These processes are created once and reused for multiple tasks.\n",
    "- Task Distribution: Tasks are distributed among the worker processes in the pool. The pool handles the scheduling and execution of these tasks.\n",
    "- Load Balancing: The pool ensures that tasks are balanced across the available processes, optimizing resource usage and minimizing idle time.\n",
    "- Resource Management: By reusing processes, the pool reduces the overhead associated with process creation and destruction, leading to more efficient resource management.\n",
    "\n",
    "Benefits\n",
    "- Efficiency: Reduces the overhead of creating and destroying processes, which can be costly in terms of time and system resources.\n",
    "- Scalability: Easily scales to handle a large number of tasks by distributing them across multiple processes.\n",
    "- Simplified Code: Provides a higher-level interface for managing multiple processes, making the code easier to write and maintain."
   ]
  },
  {
   "cell_type": "code",
   "execution_count": 3,
   "metadata": {},
   "outputs": [],
   "source": [
    "import multiprocessing\n",
    "\n",
    "def square(x):\n",
    "    return x * x\n",
    "\n",
    "if __name__ == \"__main__\":\n",
    "    # Create a pool with 4 worker processes\n",
    "    with multiprocessing.Pool(processes=4) as pool:\n",
    "        # Map the function to a list of inputs\n",
    "        results = pool.map(square, [1, 2, 3, 4, 5])\n",
    "        print(results)  # Output: [1, 4, 9, 16, 25]"
   ]
  },
  {
   "cell_type": "markdown",
   "metadata": {},
   "source": [
    "When to Use a Process Pool\n",
    "\n",
    "- CPU-bound tasks: Ideal for tasks that require significant CPU time and can benefit from parallel execution.\n",
    "- Batch processing: Suitable for scenarios where you have a large number of tasks to process in parallel, such as data processing or simulations.\n",
    "\n",
    "Using a process pool can significantly improve the performance and efficiency of your applications by leveraging parallel processing capabilities"
   ]
  },
  {
   "cell_type": "markdown",
   "metadata": {},
   "source": [
    "Q3: Explain what multiprocessing is and why it is used in Python programs."
   ]
  },
  {
   "cell_type": "markdown",
   "metadata": {},
   "source": [
    "Multiprocessing is a technique used in computing to execute multiple processes simultaneously. Each process runs independently and has its own memory space. This is particularly useful for taking full advantage of multi-core processors, allowing programs to perform multiple tasks at the same time.\n",
    "\n",
    "Why Use Multiprocessing in Python?\n",
    "\n",
    "1. Parallel Execution: Multiprocessing allows you to run multiple processes in parallel, which can significantly speed up CPU-bound tasks. Each process can run on a separate CPU core, maximizing the use of available hardware.\n",
    "2. Isolation: Since each process has its own memory space, they are isolated from each other. This reduces the risk of data corruption and makes it easier to manage complex applications.\n",
    "3. Improved Performance: For tasks that require heavy computation, multiprocessing can improve performance by distributing the workload across multiple processes.\n",
    "4. Scalability: Multiprocessing makes it easier to scale applications to handle larger workloads by adding more processes."
   ]
  },
  {
   "cell_type": "code",
   "execution_count": 1,
   "metadata": {},
   "outputs": [],
   "source": [
    "import multiprocessing\n",
    "\n",
    "def worker(num):\n",
    "    \"\"\"Thread worker function\"\"\"\n",
    "    print(f'Worker: {num}')\n",
    "\n",
    "if __name__ == '__main__':\n",
    "    jobs = []\n",
    "    for i in range(5):\n",
    "        p = multiprocessing.Process(target=worker, args=(i,))\n",
    "        jobs.append(p)\n",
    "        p.start()\n"
   ]
  },
  {
   "cell_type": "markdown",
   "metadata": {},
   "source": [
    "When to Use Multiprocessing\n",
    "- CPU-bound tasks: Tasks that require significant CPU time, such as mathematical computations, data analysis, and simulations.\n",
    "- Tasks requiring isolation: When tasks need to be isolated to prevent data corruption or for security reasons.\n",
    "- Large-scale data processing: When processing large datasets, multiprocessing can help distribute the workload and speed up the process.\n",
    "\n",
    "Multiprocessing is a powerful tool in Python for improving the performance and scalability of your applications by leveraging the capabilities of modern multi-core processors"
   ]
  },
  {
   "cell_type": "markdown",
   "metadata": {},
   "source": [
    "Q4: Write a Python program using multithreading where one thread adds numbers to a list, and another \n",
    "thread removes numbers from the list. Implement a mechanism to avoid race conditions using \n",
    "threading.Lock"
   ]
  },
  {
   "cell_type": "code",
   "execution_count": 2,
   "metadata": {},
   "outputs": [
    {
     "name": "stdout",
     "output_type": "stream",
     "text": [
      "Added 1, List: [1]\n",
      "Removed 1, List: []\n",
      "Added 2, List: [2]\n",
      "Added 3, List: [2, 3]\n",
      "Removed 2, List: [3]\n",
      "Added 4, List: [3, 4]\n",
      "Removed 3, List: [4]\n",
      "Added 5, List: [4, 5]\n",
      "Removed 4, List: [5]\n",
      "Removed 5, List: []\n",
      "Done with multithreading!\n"
     ]
    }
   ],
   "source": [
    "import threading\n",
    "import time\n",
    "\n",
    "# Shared list\n",
    "numbers = []\n",
    "\n",
    "# Lock object to avoid race conditions\n",
    "lock = threading.Lock()\n",
    "\n",
    "def add_numbers():\n",
    "    for i in range(1, 6):\n",
    "        time.sleep(1)  # Simulate some delay\n",
    "        with lock:\n",
    "            numbers.append(i)\n",
    "            print(f\"Added {i}, List: {numbers}\")\n",
    "\n",
    "def remove_numbers():\n",
    "    for i in range(1, 6):\n",
    "        time.sleep(1.5)  # Simulate some delay\n",
    "        with lock:\n",
    "            if numbers:\n",
    "                removed = numbers.pop(0)\n",
    "                print(f\"Removed {removed}, List: {numbers}\")\n",
    "\n",
    "# Create threads\n",
    "thread1 = threading.Thread(target=add_numbers)\n",
    "thread2 = threading.Thread(target=remove_numbers)\n",
    "\n",
    "# Start threads\n",
    "thread1.start()\n",
    "thread2.start()\n",
    "\n",
    "# Wait for threads to complete\n",
    "thread1.join()\n",
    "thread2.join()\n",
    "\n",
    "print(\"Done with multithreading!\")"
   ]
  },
  {
   "cell_type": "markdown",
   "metadata": {},
   "source": [
    "Q5: Describe the methods and tools available in Python for safely sharing data between threads and \n",
    "processes."
   ]
  },
  {
   "cell_type": "markdown",
   "metadata": {},
   "source": [
    "Sharing data betwwen Threads\n",
    "1. threading.Lock\n",
    "\n",
    "A Lock is a synchronization primitive that can be used to ensure that only one thread accesses a shared resource at a time."
   ]
  },
  {
   "cell_type": "code",
   "execution_count": 3,
   "metadata": {},
   "outputs": [],
   "source": [
    "import threading\n",
    "\n",
    "lock = threading.Lock()\n",
    "\n",
    "def thread_safe_function():\n",
    "    with lock:\n",
    "        # Critical section\n",
    "        pass\n"
   ]
  },
  {
   "cell_type": "markdown",
   "metadata": {},
   "source": [
    "2. threading.RLock:\n",
    "\n",
    "An RLock (reentrant lock) allows a thread to acquire the same lock multiple times. This is useful in scenarios where the same thread needs to re-enter a critical section."
   ]
  },
  {
   "cell_type": "code",
   "execution_count": 4,
   "metadata": {},
   "outputs": [],
   "source": [
    "rlock = threading.RLock()\n",
    "\n",
    "def reentrant_function():\n",
    "    with rlock:\n",
    "        # Critical section of code\n",
    "        pass"
   ]
  },
  {
   "cell_type": "markdown",
   "metadata": {},
   "source": [
    "3. threading.Event:\n",
    "\n",
    "An Event is a simple way to communicate between threads. It can be used to signal one or more threads to start or stop executing."
   ]
  },
  {
   "cell_type": "code",
   "execution_count": 5,
   "metadata": {},
   "outputs": [],
   "source": [
    "event = threading.Event()\n",
    "\n",
    "def wait_for_event():\n",
    "    event.wait()  # Blocks until the event is set\n",
    "    # Proceed with execution\n"
   ]
  },
  {
   "cell_type": "markdown",
   "metadata": {},
   "source": [
    "4. queue.Queue:\n",
    "\n",
    "A Queue is a thread-safe FIFO implementation that can be used to safely exchange data between threads."
   ]
  },
  {
   "cell_type": "code",
   "execution_count": 6,
   "metadata": {},
   "outputs": [],
   "source": [
    "from queue import Queue\n",
    "\n",
    "queue = Queue()\n",
    "\n",
    "def producer():\n",
    "    queue.put(item)\n",
    "\n",
    "def consumer():\n",
    "    item = queue.get()\n"
   ]
  },
  {
   "cell_type": "markdown",
   "metadata": {},
   "source": [
    "Sharing Data Between Processes\n",
    "\n",
    "1. multiprocessing.Queue:\n",
    "\n",
    "Similar to queue.Queue, but designed for inter-process communication."
   ]
  },
  {
   "cell_type": "code",
   "execution_count": 7,
   "metadata": {},
   "outputs": [],
   "source": [
    "from multiprocessing import Process, Queue\n",
    "\n",
    "queue = Queue()\n",
    "\n",
    "def producer():\n",
    "    queue.put(item)\n",
    "\n",
    "def consumer():\n",
    "    item = queue.get()\n"
   ]
  },
  {
   "cell_type": "markdown",
   "metadata": {},
   "source": [
    "2. multiprocessing.Pipe:\n",
    "\n",
    "A Pipe provides a way for two processes to communicate with each other."
   ]
  },
  {
   "cell_type": "code",
   "execution_count": 8,
   "metadata": {},
   "outputs": [],
   "source": [
    "from multiprocessing import Pipe\n",
    "\n",
    "parent_conn, child_conn = Pipe()\n",
    "\n",
    "def sender():\n",
    "    child_conn.send(data)\n",
    "\n",
    "def receiver():\n",
    "    data = parent_conn.recv()\n"
   ]
  },
  {
   "cell_type": "markdown",
   "metadata": {},
   "source": [
    "3. multiprocessing.Value and Array:\n",
    "\n",
    "These are shared memory objects that can be used to share data between processes."
   ]
  },
  {
   "cell_type": "code",
   "execution_count": 9,
   "metadata": {},
   "outputs": [],
   "source": [
    "from multiprocessing import Value, Array\n",
    "\n",
    "shared_value = Value('i', 0)  # 'i' indicates an integer\n",
    "shared_array = Array('i', [0, 0, 0])\n",
    "\n",
    "def modify_shared_data():\n",
    "    with shared_value.get_lock():\n",
    "        shared_value.value += 1\n"
   ]
  },
  {
   "cell_type": "markdown",
   "metadata": {},
   "source": [
    "4. multiprocessing.Manager:\n",
    "\n",
    "A Manager object controls a server process that holds Python objects and allows other processes to manipulate them using proxies."
   ]
  },
  {
   "cell_type": "code",
   "execution_count": 10,
   "metadata": {},
   "outputs": [],
   "source": [
    "from multiprocessing import Manager\n",
    "\n",
    "manager = Manager()\n",
    "shared_dict = manager.dict()\n",
    "\n",
    "def update_dict():\n",
    "    shared_dict['key'] = 'value'\n"
   ]
  },
  {
   "cell_type": "markdown",
   "metadata": {},
   "source": [
    "Q6: Discuss why it’s crucial to handle exceptions in concurrent programs and the techniques available for \n",
    "doing so."
   ]
  },
  {
   "cell_type": "markdown",
   "metadata": {},
   "source": [
    "Handling exceptions in concurrent programs is crucial for several reasons:\n",
    "\n",
    "Importance of Handling Exceptions in Concurrent Programs\n",
    "1. Maintaining Program Stability:\n",
    "\n",
    "In concurrent programs, multiple threads or processes run simultaneously. If an exception occurs in one thread and is not properly handled, it can cause the entire program to crash or become unstable. Proper exception handling ensures that the program can continue running smoothly even when errors occur.\n",
    "\n",
    "2. Preventing Data Corruption:\n",
    "\n",
    "Unhandled exceptions can lead to inconsistent states or data corruption, especially when shared resources are involved. By handling exceptions, you can ensure that resources are properly released and data integrity is maintained.\n",
    "\n",
    "3. Improving Debugging and Maintenance:\n",
    "\n",
    "Properly handling exceptions allows for better logging and debugging. When exceptions are caught and logged, it becomes easier to identify and fix issues, improving the overall maintainability of the code.\n",
    "\n",
    "4. Ensuring Correct Program Flow:\n",
    "\n",
    "Exception handling helps in maintaining the correct flow of the program. By catching and managing exceptions, you can implement fallback mechanisms, retries, or alternative logic to ensure the program continues to function as intended."
   ]
  },
  {
   "cell_type": "markdown",
   "metadata": {},
   "source": [
    "Techniques for Handling Exceptions in Concurrent Programs\n",
    "1. Try-Catch Blocks:\n",
    " - Use try-catch blocks within threads to catch and handle exceptions locally. This prevents exceptions from propagating and affecting other parts of the program."
   ]
  },
  {
   "cell_type": "code",
   "execution_count": 11,
   "metadata": {},
   "outputs": [],
   "source": [
    "import threading\n",
    "\n",
    "def thread_function():\n",
    "    try:\n",
    "        # Code that may raise an exception\n",
    "        pass\n",
    "    except Exception as e:\n",
    "        # Handle exception\n",
    "        print(f\"Exception occurred: {e}\")\n",
    "\n",
    "thread = threading.Thread(target=thread_function)\n",
    "thread.start()\n"
   ]
  },
  {
   "cell_type": "markdown",
   "metadata": {},
   "source": [
    "2. Centralized Exception Handling:\n",
    "\n",
    "Implement a centralized mechanism to handle exceptions across multiple threads. This can be done using a custom exception handler or a logging framework to capture and manage exceptions in one place."
   ]
  },
  {
   "cell_type": "code",
   "execution_count": 12,
   "metadata": {},
   "outputs": [],
   "source": [
    "import threading\n",
    "import logging\n",
    "\n",
    "def handle_exception(exc_type, exc_value, exc_traceback):\n",
    "    logging.error(\"Uncaught exception\", exc_info=(exc_type, exc_value, exc_traceback))\n",
    "\n",
    "threading.excepthook = handle_exception\n"
   ]
  },
  {
   "cell_type": "markdown",
   "metadata": {},
   "source": [
    "3. Using Future and Executor:\n",
    "\n",
    "In concurrent programming with futures and executors, exceptions can be propagated back to the main thread where they can be handled appropriately."
   ]
  },
  {
   "cell_type": "code",
   "execution_count": 13,
   "metadata": {},
   "outputs": [],
   "source": [
    "from concurrent.futures import ThreadPoolExecutor, as_completed\n",
    "\n",
    "def task():\n",
    "    # Code that may raise an exception\n",
    "    pass\n",
    "\n",
    "with ThreadPoolExecutor(max_workers=5) as executor:\n",
    "    futures = [executor.submit(task) for _ in range(5)]\n",
    "    for future in as_completed(futures):\n",
    "        try:\n",
    "            future.result()\n",
    "        except Exception as e:\n",
    "            print(f\"Exception occurred: {e}\")\n"
   ]
  },
  {
   "cell_type": "markdown",
   "metadata": {},
   "source": [
    "4. Thread-Local Storage:\n",
    "\n",
    "Use thread-local storage to keep exceptions isolated to the thread where they occur. This prevents exceptions from affecting other threads."
   ]
  },
  {
   "cell_type": "code",
   "execution_count": 14,
   "metadata": {},
   "outputs": [],
   "source": [
    "import threading\n",
    "\n",
    "thread_local_data = threading.local()\n",
    "\n",
    "def thread_function():\n",
    "    try:\n",
    "        # Code that may raise an exception\n",
    "        pass\n",
    "    except Exception as e:\n",
    "        thread_local_data.exception = e\n",
    "\n",
    "thread = threading.Thread(target=thread_function)\n",
    "thread.start()\n",
    "thread.join()\n",
    "\n",
    "if hasattr(thread_local_data, 'exception'):\n",
    "    print(f\"Exception occurred: {thread_local_data.exception}\")\n"
   ]
  },
  {
   "cell_type": "markdown",
   "metadata": {},
   "source": [
    "Q7:  Create a program that uses a thread pool to calculate the factorial of numbers from 1 to 10 concurrently. \n",
    "Use concurrent.futures.ThreadPoolExecutor to manage the threads."
   ]
  },
  {
   "cell_type": "code",
   "execution_count": 15,
   "metadata": {},
   "outputs": [
    {
     "name": "stdout",
     "output_type": "stream",
     "text": [
      "1\n",
      "2\n",
      "6\n",
      "24\n",
      "120\n",
      "720\n",
      "5040\n",
      "40320\n",
      "362880\n",
      "3628800\n"
     ]
    }
   ],
   "source": [
    "from concurrent.futures import ThreadPoolExecutor\n",
    "import math\n",
    "\n",
    "# Function to calculate factorial\n",
    "def factorial(n):\n",
    "    return math.factorial(n)\n",
    "\n",
    "# List of numbers from 1 to 10\n",
    "numbers = list(range(1, 11))\n",
    "\n",
    "# Create a ThreadPoolExecutor\n",
    "with ThreadPoolExecutor(max_workers=5) as executor:\n",
    "    # Submit tasks to the executor\n",
    "    futures = [executor.submit(factorial, num) for num in numbers]\n",
    "    \n",
    "    # Collect and print the results\n",
    "    for future in futures:\n",
    "        print(future.result())\n"
   ]
  },
  {
   "cell_type": "markdown",
   "metadata": {},
   "source": [
    "Q8: Create a Python program that uses multiprocessing.Pool to compute the square of numbers from 1 to 10 in \n",
    "parallel. Measure the time taken to perform this computation using a pool of different sizes (e.g., 2, 4, 8 \n",
    "processes)"
   ]
  },
  {
   "cell_type": "code",
   "execution_count": 16,
   "metadata": {},
   "outputs": [],
   "source": [
    "import multiprocessing\n",
    "import time\n",
    "\n",
    "# Function to compute the square of a number\n",
    "def compute_square(n):\n",
    "    return n * n\n",
    "\n",
    "# List of numbers from 1 to 10\n",
    "numbers = list(range(1, 11))\n",
    "\n",
    "# Function to measure the time taken for computation with different pool sizes\n",
    "def measure_time(pool_size):\n",
    "    start_time = time.time()\n",
    "    with multiprocessing.Pool(pool_size) as pool:\n",
    "        results = pool.map(compute_square, numbers)\n",
    "    end_time = time.time()\n",
    "    return results, end_time - start_time\n",
    "\n",
    "# Measure and print the time taken for different pool sizes\n",
    "for pool_size in [2, 4, 8]:\n",
    "    results, duration = measure_time(pool_size)\n",
    "    print(f\"Pool size: {pool_size}, Results: {results}, Time taken: {duration:.6f} seconds\")\n"
   ]
  },
  {
   "cell_type": "code",
   "execution_count": null,
   "metadata": {},
   "outputs": [],
   "source": []
  }
 ],
 "metadata": {
  "kernelspec": {
   "display_name": "Python 3",
   "language": "python",
   "name": "python3"
  },
  "language_info": {
   "codemirror_mode": {
    "name": "ipython",
    "version": 3
   },
   "file_extension": ".py",
   "mimetype": "text/x-python",
   "name": "python",
   "nbconvert_exporter": "python",
   "pygments_lexer": "ipython3",
   "version": "3.12.5"
  }
 },
 "nbformat": 4,
 "nbformat_minor": 2
}
